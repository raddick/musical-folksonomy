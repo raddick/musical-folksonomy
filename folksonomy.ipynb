{
 "cells": [
  {
   "cell_type": "code",
   "execution_count": 1,
   "metadata": {},
   "outputs": [
    {
     "name": "stdout",
     "output_type": "stream",
     "text": [
      "ok\n"
     ]
    }
   ],
   "source": [
    "import os\n",
    "import numpy as np\n",
    "import pandas\n",
    "import re\n",
    "import urllib\n",
    "from bs4 import BeautifulSoup as bs\n",
    "from datetime import datetime as dt\n",
    "import scipy.stats\n",
    "from IPython.display import display, HTML\n",
    "\n",
    "debug = 2\n",
    "print('ok')"
   ]
  },
  {
   "cell_type": "code",
   "execution_count": 2,
   "metadata": {},
   "outputs": [
    {
     "name": "stdout",
     "output_type": "stream",
     "text": [
      "Parsing filename into stem and filetype...\n",
      "Deleting stray .cue file...\n",
      "music_df has 2,972 total rows.\n",
      "594 rows set to score = 0.\n",
      "ok\n"
     ]
    }
   ],
   "source": [
    "os.chdir('/home/idies/workspace/Storage/raddick/raddick_folksonomy/data')\n",
    "music_df = pandas.read_csv('cleaned_audio_data.csv', index_col='ID')\n",
    "music_df = music_df.rename(columns={'Source': 'source', 'Sample File Name': 'filename'})\n",
    "\n",
    "# Everything after the final period is the filename\n",
    "if (debug >= 2):\n",
    "    print('Parsing filename into stem and filetype...')\n",
    "music_df['filetype'] = music_df['filename'].apply(lambda x: x.split('.')[-1])\n",
    "\n",
    "# Delete stray .cue file\n",
    "if (debug >= 2):\n",
    "    print('Deleting stray .cue file...')\n",
    "music_df = music_df.drop(music_df.index[music_df['filetype'] == 'cue'], axis=0)\n",
    "\n",
    "# Get ready to score\n",
    "music_df['score'] = -9999\n",
    "\n",
    "# Everything before the final period is the stem\n",
    "music_df['stem'] = music_df['filename'].apply(lambda x: x[0:len(x)-len(x.split('.')[-1])-1])\n",
    "\n",
    "music_df['songonly'] = False\n",
    "\n",
    "cd_like = re.compile('(?i)^[\\s\\-\\._]*(br\\-|dis|cd|sample|side|track|tit[le|el]|t[\\d.])[\\s\\-\\._]*')\n",
    "onlynumbers = re.compile('^[0-9\\.]+$')\n",
    "intro_like = re.compile('(?i)^\\d+[\\s\\.\\-_\\(\\[]+\\w*(intro|arriv|crowd|audience|stage|applause|tuning|announce|welcome|banter)')\n",
    "unknown_like = re.compile('(?i)^\\d*[\\s\\.\\-_\\(\\[]*(unknown|artist|title)')\n",
    "song_track_like = re.compile('(?i)^(d|\\d)+[\\s\\.\\-_\\(\\[\\w]*(track)[\\s\\-\\._]*\\d+')\n",
    "otherpatternfinder = re.compile('(?i)\\d+\\s*dr\\d+')\n",
    "\n",
    "music_df.loc[music_df['stem'].apply(lambda x: re.search(cd_like, x)).notnull(), 'songonly'] = True\n",
    "music_df.loc[music_df['stem'].apply(lambda x: re.search(onlynumbers, x)).notnull(), 'songonly'] = True\n",
    "music_df.loc[music_df['stem'].apply(lambda x: re.search(intro_like, x)).notnull(), 'songonly'] = True\n",
    "music_df.loc[music_df['stem'].apply(lambda x: re.search(unknown_like, x)).notnull(), 'songonly'] = True\n",
    "music_df.loc[music_df['stem'].apply(lambda x: re.search(song_track_like, x)).notnull(), 'songonly'] = True\n",
    "music_df.loc[music_df['stem'].apply(lambda x: re.search(otherpatternfinder, x)).notnull(), 'songonly'] = True\n",
    "\n",
    "\n",
    "music_df.loc[music_df['songonly'] , 'score'] = 0\n",
    "\n",
    "print('music_df has {0:,.0f} total rows.'.format(len(music_df)))\n",
    "\n",
    "print('{0:,.0f} rows set to score = 0.'.format(len(music_df[music_df['score'] == 0])))\n",
    "\n",
    "music_df = music_df.drop('songonly', axis=1)\n",
    "\n",
    "music_df_bk = music_df\n",
    "print('ok')\n",
    "\n",
    "#music_df['stem'][\n",
    "#    (music_df['songonly']) \n",
    "#].sort_values()[125:]"
   ]
  },
  {
   "cell_type": "code",
   "execution_count": 3,
   "metadata": {},
   "outputs": [
    {
     "name": "stdout",
     "output_type": "stream",
     "text": [
      "Parsing stem into band and post-band...\n",
      "Fixing band values for stems with no digits...\n",
      "Fixing band values for U2...\n",
      "ok\n"
     ]
    }
   ],
   "source": [
    "music_df = music_df_bk\n",
    "\n",
    "if (debug >= 2):\n",
    "    print('Parsing stem into band and post-band...')\n",
    "music_df.loc[music_df['stem'].apply(lambda x: re.search('\\d', x)).notnull(), 'band_abbrev_autoparsed'] = music_df['stem'][music_df['stem'].apply(lambda x: re.search('\\d', x)).notnull()].apply(lambda x: x[0:re.search('\\d',x).start()])\n",
    "music_df['postbandstuff'] = music_df['stem'][music_df['stem'].apply(lambda x: re.search('\\d+', x)).notnull()].apply(lambda x: x[re.search('\\d', x).start():len(x)])\n",
    "\n",
    "# If no digits found, everything is part of the band_abbrev_autoparsed\n",
    "if (debug >= 2):\n",
    "    print('Fixing band values for stems with no digits...')\n",
    "\n",
    "music_df['band_abbrev_autoparsed']  = music_df['band_abbrev_autoparsed'].fillna(music_df['stem'])\n",
    "music_df['postbandstuff']  = music_df['postbandstuff'].fillna('')\n",
    "\n",
    "# Fix the band U2\n",
    "if (debug >= 2):\n",
    "    print('Fixing band values for U2...')\n",
    "\n",
    "\n",
    "music_df.loc[\n",
    "    music_df['band_abbrev_autoparsed'].apply(lambda x: x.lower() == 'u')\n",
    "    , 'band_abbrev_autoparsed'\n",
    "] = music_df['stem'][\n",
    "    music_df['band_abbrev_autoparsed'].apply(lambda x: x.lower() == 'u')\n",
    "].apply(lambda x: x[0:re.search('2[\\s_-]*', x).end()])\n",
    "\n",
    "music_df.loc[\n",
    "    music_df['band_abbrev_autoparsed'].apply(lambda x: re.search('u2', x.lower())).notnull()\n",
    "    , 'postbandstuff'\n",
    "] = music_df['stem'][\n",
    "    music_df['band_abbrev_autoparsed'].apply(lambda x: re.search('u2', x.lower())).notnull()\n",
    "].apply(lambda x: x[re.search('2[\\s_-]*', x).end():len(x)])\n",
    "\n",
    "         \n",
    "music_df_bk = music_df\n",
    "\n",
    "print('ok')"
   ]
  },
  {
   "cell_type": "code",
   "execution_count": 4,
   "metadata": {},
   "outputs": [
    {
     "name": "stdout",
     "output_type": "stream",
     "text": [
      "ok\n"
     ]
    }
   ],
   "source": [
    "music_df = music_df_bk\n",
    "#                    ].dropna().drop_duplicates().sort_values()[0:30]#.values.tolist()\n",
    "bandendspacers = re.compile('[\\W_]+$')\n",
    "\n",
    "music_df['hasbandendspacers'] = True\n",
    "music_df.loc[music_df['band_abbrev_autoparsed'].apply(lambda x: re.search(bandendspacers, x)).isnull(), 'hasbandendspacers'] = False\n",
    "\n",
    "music_df['band_abbrev'] = music_df['band_abbrev_autoparsed']\n",
    "\n",
    "# Remove trailing spaces from band_abbrev_orig to create band_abbrev_parsed\n",
    "music_df.loc[\n",
    "    (music_df['hasbandendspacers']) \n",
    "    , 'band_abbrev'] = music_df['band_abbrev_autoparsed'][\n",
    "    (music_df['hasbandendspacers']) \n",
    "].apply(lambda x: x[0:re.search(bandendspacers, x).start()])\n",
    "\n",
    "# Fix Loreley\n",
    "music_df.loc[music_df['band_abbrev'].apply(lambda x: 'loreley' in x.lower()), 'band_abbrev'\n",
    "            ] = music_df['band_abbrev'][music_df['band_abbrev'\n",
    "                                                ].apply(lambda x: 'loreley' in x.lower())\n",
    "                                       ].apply(lambda x: x[0:len(x)-7])\n",
    "music_df_bk = music_df\n",
    "print('ok')"
   ]
  },
  {
   "cell_type": "code",
   "execution_count": 5,
   "metadata": {},
   "outputs": [
    {
     "name": "stdout",
     "output_type": "stream",
     "text": [
      "ok\n"
     ]
    }
   ],
   "source": [
    "music_df = music_df_bk\n",
    "# NEED TO FIX THESE BAND VALUES\n",
    "#music_df['band_abbrev'][~music_df.index.isin(fixbandlist)\n",
    "#                              ].dropna().drop_duplicates().sort_values()[775:]\n",
    "# VALUES FOUND THAT WAY ARE LISTED IN fixbandist\n",
    "fixbandlist = []\n",
    "fixbandlist += ['567194.html', '126863.html', '566104.html', '566727.html', '566252.html', '567047.html']\n",
    "fixbandlist += ['566973.html', '566208.html', '565954.html', '565868.html', '566685.html', '565793.html']\n",
    "fixbandlist += ['566439.html', '565913.html', '0140111caca68f331e53d9651a3eadf6b7b0f999']\n",
    "fixbandlist += ['566783.html', '567544.html', '566278.html', '566234.html', '566526.html', '566814.html']\n",
    "fixbandlist += ['566136.html', '566798.html', '567140.html', '565934.html', '566810.html', '566896.html']\n",
    "fixbandlist += ['565650.html', '566756.html', '566114.html', '567536.html', '566329.html', '567879.html']\n",
    "fixbandlist += ['567120.html', '567402.html', '565891.html', '567592.html', '566264.html', '566219.html']\n",
    "fixbandlist += ['566734.html', '587888.html', '567758.html', '567795.html', '127033.html', '566511.html']\n",
    "fixbandlist += ['565961.html', '566789.html', '565503.html', '566127.html', '566155.html', '565852.html']\n",
    "fixbandlist += ['127034.html', '566231.html', '566157.html', '566144.html', '566657.html', '567318.html']\n",
    "fixbandlist += ['565923.html', '566150.html', '566066.html', '565901.html']\n",
    "fixbandlist += ['567771.html', 'c2b7c10aa42aa6f55c8537ece72ed5726ae6b1b3', '566903.html']\n",
    "fixbandlist += ['567234.html', '566050.html', '567202.html', '567760.html', '587769.html', '567336.html']\n",
    "# Write the rows that need to be fixed into a CSV, fix them in XLSX document\n",
    "#music_df[['band_abbrev']][music_df.index.isin(fixbandlist)].sort_values(by='band_abbrev').to_csv('bandstofix.csv')\n",
    "\n",
    "# Load the uploaded Excel document with the fixes\n",
    "fixed_bands_df = pandas.read_excel('bandstofix.xlsx', index_col='ID')\n",
    "\n",
    "# Perform band fixes\n",
    "music_df = music_df.join(fixed_bands_df, how='left')\n",
    "music_df.loc[music_df['band_abbrev_fixed'].notnull(), 'band_abbrev'] = music_df['band_abbrev_fixed']\n",
    "music_df = music_df.drop('band_abbrev_fixed', axis=1)\n",
    "\n",
    "# Some more bands to fix\n",
    "music_df.loc['567466.html', 'band_abbrev'] = 'sales'\n",
    "music_df.loc['565676.html', 'band_abbrev'] = 'Sweet Liberties'\n",
    "music_df.loc['567731.html', 'band_abbrev'] = 'The Brew'\n",
    "music_df.loc['565549.html', 'band_abbrev'] = 'BC'\n",
    "music_df.loc['567361.html', 'band_abbrev'] = 'Coral Creek'\n",
    "\n",
    "\n",
    "# Find blank values of band_abbrev that can be found from stem values and fixed\n",
    "#music_df['stem'][\n",
    "#    (~music_df['songonly']) &\n",
    "#    (music_df['band_abbrev'] == '')\n",
    "#].sort_values()[775:800]\n",
    "addbandlist = []\n",
    "addbandlist += ['566895.html', '566989.html', '567507.html', '567718.html', '566324.html', '566687.html']\n",
    "addbandlist += ['567464.html', '567692.html', '565610.html', '566238.html', '565714.html', '566937.html']\n",
    "addbandlist += ['566938.html', '567634.html', '566723.html', '03bcddfb8e4c6e4df25f285517205919e41bca35']\n",
    "addbandlist += ['127059.html', '566930.html', '566932.html', '566655.html', '565529.html', '567192.html']\n",
    "addbandlist += ['567503.html', '565750.html', '566261.html', '567810.html', '565970.html', '567294.html']\n",
    "addbandlist += ['566280.html', '566679.html', 'f704e684bd9817702d272c0d06cd118d695b0517', '565958.html']\n",
    "addbandlist += ['567845.html', '566294.html', '566673.html', '566674.html', '566805.html', '566804.html']\n",
    "addbandlist += ['566854.html', '566726.html', '566748.html', '566793.html', '566873.html', '566485.html']\n",
    "addbandlist += ['565929.html', '567431.html', '565966.html', '566629.html']\n",
    "addbandlist += ['567201.html', '567025.html', '567022.html', '567150.html', '567088.html']\n",
    "addbandlist += ['567285.html', '565948.html', '566371.html', '566119.html', '567146.html', '566724.html']\n",
    "addbandlist += ['566879.html', '567566.html', '567368.html', '567271.html']\n",
    "addbandlist += ['126776.html', '127051.html', '567639.html', '567323.html', '126935.html', '127156.html']\n",
    "addbandlist += ['566933.html', '567830.html', '565959.html', '566017.html', '567417.html']\n",
    "addbandlist += ['567653.html', '566851.html', '567233.html', '567496.html', '566488.html']\n",
    "addbandlist += ['566106.html', 'f984d4ab17b0a85de1bfa9ffab80efd7625b8122', '567338.html']\n",
    "addbandlist += ['567717.html', '567578.html', '566890.html', '566546.html', '565723.html']\n",
    "addbandlist += ['3c39e32bf0918ec3190ecda08442eba0d8b2faa8', '567064.html', '566799.html', '567275.html']\n",
    "addbandlist += ['567442.html', '587360.html', '565748.html', '587570.html', '587699.html']\n",
    "addbandlist += ['587637.html', '566375.html', '587700.html', '587634.html', '587693.html']\n",
    "addbandlist += ['587632.html', '126991.html', '126990.html', '567166.html', '127071.html']\n",
    "addbandlist += ['567240.html', '567775.html', '567053.html', '565602.html']\n",
    "#music_df['stem'][music_df.index.isin(addbandlist)].sort_values().to_csv('bandstoadd.csv')\n",
    "\n",
    "# Load the uploaded Excel document with the fixes\n",
    "added_bands_df = pandas.read_excel('bandstoadd.xlsx', index_col='ID')\n",
    "\n",
    "# Add new bands\n",
    "music_df = music_df.join(added_bands_df, how='left')\n",
    "music_df.loc[music_df['band_abbrev_new'].notnull(), 'band_abbrev'] = music_df['band_abbrev_new']\n",
    "music_df = music_df.drop('band_abbrev_new', axis=1)\n",
    "\n",
    "# Lower and strip band named parsed\n",
    "music_df['band_abbrev'] = music_df['band_abbrev'].apply(lambda x: x.lower().strip())\n",
    "\n",
    "music_df_bk = music_df\n",
    "print('ok')"
   ]
  },
  {
   "cell_type": "code",
   "execution_count": 6,
   "metadata": {},
   "outputs": [
    {
     "name": "stdout",
     "output_type": "stream",
     "text": [
      "Retrieving from etree\n",
      "Thinking...\n",
      "ok\n"
     ]
    }
   ],
   "source": [
    "# GET LIST OF OFFICIAL ABBREVIATIONS\n",
    "\n",
    "print('Retrieving from etree')\n",
    "pageurl = 'http://wiki.etree.org/index.php?page=BandAbbreviations'\n",
    "page = urllib.request.urlopen(pageurl).read()\n",
    "soup = bs(page, \"html.parser\")\n",
    "tables = soup.find_all('table')\n",
    "\n",
    "#for thistable in tables:\n",
    "#    print(thistable)\n",
    "#    print('---------')\n",
    "\n",
    "bandtable = tables[1]\n",
    "bands = bandtable.find_all('tr')\n",
    "allbands = []\n",
    "\n",
    "print('Thinking...')\n",
    "for thisband in bands[1:]:\n",
    "    theirdata = thisband.find_all('td')\n",
    "    oneband = {}\n",
    "    oneband['name'] = theirdata[0].text\n",
    "    oneband['abbrev'] = theirdata[1].text\n",
    "    try:\n",
    "        oneband['otherabbrev'] = theirdata[2].text\n",
    "    except:\n",
    "        pass\n",
    "    try:\n",
    "        oneband['notes'] = theirdata[3].text\n",
    "    except:\n",
    "        pass\n",
    "    allbands.append(oneband)\n",
    "abbrev_df = pandas.DataFrame.from_records(allbands)\n",
    "abbrev_df.index.name = 'rownumber'\n",
    "\n",
    "abbrev_df = abbrev_df.drop('notes', axis=1)\n",
    "column_order = ['name', 'abbrev', 'otherabbrev']\n",
    "abbrev_df = abbrev_df[column_order]\n",
    "\n",
    "# Trim one space from beginning and end of band abbrev and name\n",
    "abbrev_df['abbrev'] = abbrev_df['abbrev'].apply(lambda x: str(x).strip())\n",
    "abbrev_df['name'] = abbrev_df['name'].apply(lambda x: str(x).strip())\n",
    "\n",
    "# Trim away brackets from beginning and end of band name (for some bands)\n",
    "abbrev_df['name'] = abbrev_df['name'] = np.where((abbrev_df['name'].apply(lambda x: (str(x)[0])) == '['), \n",
    "                             abbrev_df['name'].apply(lambda x: str(x)[1:]), \n",
    "                             abbrev_df['name']) \n",
    "abbrev_df['name'] = abbrev_df['name'] = np.where((abbrev_df['name'].apply(lambda x: (str(x)[len(str(x))-1])) == ']'),\n",
    "                              abbrev_df['name'].apply(lambda x: str(x)[:-1]), \n",
    "                              abbrev_df['name'])\n",
    "# dumb special cases\n",
    "abbrev_df.loc[abbrev_df['abbrev'] == '(see FB below)', 'abbrev'] = ''\n",
    "abbrev_df.loc[abbrev_df['abbrev'] == 'Keller Williams w- String Cheese Incident', 'abbrev'] = 'kwi'\n",
    "\n",
    "\n",
    "# lower and strip, fillna w/blanks for otherabbrev\n",
    "abbrev_df['abbrev'] = abbrev_df['abbrev'].apply(lambda x: str(x).lower().strip())\n",
    "abbrev_df['otherabbrev'] = abbrev_df['otherabbrev'].fillna('')\n",
    "abbrev_df['otherabbrev'] = abbrev_df['otherabbrev'].apply(lambda x: str(x).lower().strip())\n",
    "\n",
    "abbrev_df_bk = abbrev_df\n",
    "print('ok')"
   ]
  },
  {
   "cell_type": "code",
   "execution_count": 7,
   "metadata": {
    "scrolled": false
   },
   "outputs": [
    {
     "data": {
      "text/html": [
       "<div>\n",
       "<style>\n",
       "    .dataframe thead tr:only-child th {\n",
       "        text-align: right;\n",
       "    }\n",
       "\n",
       "    .dataframe thead th {\n",
       "        text-align: left;\n",
       "    }\n",
       "\n",
       "    .dataframe tbody tr th {\n",
       "        vertical-align: top;\n",
       "    }\n",
       "</style>\n",
       "<table border=\"1\" class=\"dataframe\">\n",
       "  <thead>\n",
       "    <tr style=\"text-align: right;\">\n",
       "      <th></th>\n",
       "      <th>name</th>\n",
       "      <th>canonical</th>\n",
       "    </tr>\n",
       "    <tr>\n",
       "      <th>abbrev</th>\n",
       "      <th></th>\n",
       "      <th></th>\n",
       "    </tr>\n",
       "  </thead>\n",
       "  <tbody>\n",
       "    <tr>\n",
       "      <th>bog</th>\n",
       "      <td>A Band of Gypsys</td>\n",
       "      <td>True</td>\n",
       "    </tr>\n",
       "    <tr>\n",
       "      <th>gt</th>\n",
       "      <td>Ghost Trane</td>\n",
       "      <td>True</td>\n",
       "    </tr>\n",
       "    <tr>\n",
       "      <th>beanland</th>\n",
       "      <td>Beanland</td>\n",
       "      <td>True</td>\n",
       "    </tr>\n",
       "  </tbody>\n",
       "</table>\n",
       "</div>"
      ],
      "text/plain": [
       "                      name  canonical\n",
       "abbrev                               \n",
       "bog       A Band of Gypsys       True\n",
       "gt             Ghost Trane       True\n",
       "beanland          Beanland       True"
      ]
     },
     "execution_count": 7,
     "metadata": {},
     "output_type": "execute_result"
    }
   ],
   "source": [
    "# ROTATE ABBREVIATIONS INTO GUIDE FILE\n",
    "guide_df = pandas.DataFrame(data=abbrev_df['abbrev'][abbrev_df['abbrev'] != ''], columns=['abbrev'])\n",
    "\n",
    "guide_df = guide_df.merge(abbrev_df, how='left', on='abbrev')\n",
    "guide_df = guide_df[['abbrev', 'name']]\n",
    "guide_df = guide_df.set_index('abbrev')\n",
    "guide_df['canonical'] = True\n",
    "\n",
    "variant_abbrev_list = []\n",
    "for thisrow in abbrev_df['otherabbrev'][abbrev_df['otherabbrev'] != ''].drop_duplicates().tolist():\n",
    "    for thisabbrev in thisrow.split(','):\n",
    "        thisabbrev = thisabbrev.strip()\n",
    "        thisband = abbrev_df['name'][abbrev_df['otherabbrev'].apply(lambda x: thisabbrev in x)].values[0]\n",
    "        if thisabbrev not in guide_df.index.values:\n",
    "            guide_df.loc[thisabbrev] = [thisband, False]\n",
    "\n",
    "guide_df = guide_df.sort_values('canonical').sort_index()\n",
    "\n",
    "# change index value of kdub\n",
    "indexaslist = guide_df.index.tolist()\n",
    "kdubvalue = indexaslist.index('kdub (for k-double-u)')\n",
    "indexaslist[kdubvalue] = 'kdub'\n",
    "guide_df.index = indexaslist\n",
    "\n",
    "# Clean up some weird-ass values\n",
    "guide_df.loc['beanland', 'name'] = 'Beanland'\n",
    "guide_df.loc['buho', 'canonical'] = True\n",
    "guide_df.loc['logic', 'canonical'] = True\n",
    "guide_df.loc['gtb', 'canonical'] = True\n",
    "guide_df.loc['ig', 'canonical'] = True\n",
    "guide_df.loc['jgb', 'name'] = 'Jerry Garcia Band'\n",
    "guide_df.loc['jgb', 'canonical'] = True\n",
    "guide_df.loc['jt', 'canonical'] = True\n",
    "guide_df.loc['ls', 'canonical'] = True\n",
    "guide_df.loc['los', 'canonical'] = True\n",
    "guide_df.loc['marlow', 'canonical'] = True\n",
    "guide_df.loc['moe', 'name'] = 'Moe'\n",
    "guide_df.loc['pmb', 'canonical'] = True\n",
    "guide_df.loc['amendola', 'canonical'] = True\n",
    "guide_df.loc['hip', 'canonical'] = True\n",
    "guide_df.loc['wilco', 'canonical'] = True\n",
    "guide_df.loc['spod', 'name'] = 'Serial Pod'\n",
    "\n",
    "guide_df.index.name = 'abbrev'\n",
    "\n",
    "guide_df_bk = guide_df\n",
    "guide_df.sample(3)"
   ]
  },
  {
   "cell_type": "code",
   "execution_count": 8,
   "metadata": {},
   "outputs": [
    {
     "data": {
      "text/plain": [
       "abbrev_type\n",
       "blank        1019\n",
       "canonical     350\n",
       "incorrect      48\n",
       "notband       225\n",
       "notfound     1309\n",
       "variant        21\n",
       "dtype: int64"
      ]
     },
     "execution_count": 8,
     "metadata": {},
     "output_type": "execute_result"
    }
   ],
   "source": [
    "music_df = music_df_bk\n",
    "\n",
    "music_df['abbrev_type'] = 'notfound'\n",
    "music_df.loc[music_df['band_abbrev'] == '', 'abbrev_type'] = 'blank'\n",
    "\n",
    "music_df = music_df.reset_index().merge(guide_df.reset_index(), how='left', left_on='band_abbrev', right_on='abbrev').set_index('ID')\n",
    "music_df = music_df.rename(columns={'name': 'band'})\n",
    "music_df = music_df.drop('stem_old', axis=1)\n",
    "music_df.loc[(music_df['canonical'].notnull()) & (music_df['canonical'] == True), 'abbrev_type'] = 'canonical'\n",
    "music_df.loc[(music_df['canonical'].notnull()) & (music_df['canonical'] == False), 'abbrev_type'] = 'variant'\n",
    "\n",
    "# Band names used incorrect abbreviations\n",
    "incorrect = ['phish', 'widespreadpanic']\n",
    "incorrect += ['gov`t mule', 'pl&amp;f', 'deadfeat']\n",
    "music_df.loc[music_df['band_abbrev'].isin(incorrect), 'abbrev_type'] = 'incorrect'\n",
    "\n",
    "# Filter out some non-bands by labeling them as \"notband\"\n",
    "music_df.loc[music_df['band_abbrev'].apply(lambda x: 'dis' in x.lower()), 'abbrev_type'] = 'notband'\n",
    "music_df.loc[music_df['band_abbrev'].apply(lambda x: 'track' in x.lower()), 'abbrev_type'] = 'notband'\n",
    "music_df.loc[music_df['band_abbrev'].apply(lambda x: 'track' in x.lower()), 'abbrev_type'] = 'notband'\n",
    "music_df.loc[music_df['band_abbrev'].apply(lambda x: 'artist' in x.lower()), 'abbrev_type'] = 'notband'\n",
    "music_df.loc[music_df['band_abbrev'].apply(lambda x: 'cd ' in x.lower()), 'abbrev_type'] = 'notband'\n",
    "music_df.loc[music_df['band_abbrev'] == 'cd', 'abbrev_type'] = 'notband'\n",
    "music_df.loc[music_df['band_abbrev'].apply(lambda x: 'tit' in x.lower()), 'abbrev_type'] = 'notband'\n",
    "music_df.loc[music_df['band_abbrev'].apply(lambda x: 'side ' in x.lower()), 'abbrev_type'] = 'notband'\n",
    "music_df.loc[music_df['band_abbrev'].apply(lambda x: 'sample' in x.lower()), 'abbrev_type'] = 'notband'\n",
    "\n",
    "music_df_bk = music_df\n",
    "\n",
    "music_df.groupby('abbrev_type').size()\n",
    "#music_df.head(1)"
   ]
  },
  {
   "cell_type": "code",
   "execution_count": 9,
   "metadata": {},
   "outputs": [
    {
     "name": "stdout",
     "output_type": "stream",
     "text": [
      "abbrev_type\n",
      "assigned     1149\n",
      "blank        1019\n",
      "canonical     349\n",
      "incorrect      48\n",
      "notband       315\n",
      "unknown        71\n",
      "variant        21\n",
      "dtype: int64\n"
     ]
    }
   ],
   "source": [
    "music_df = music_df_bk\n",
    "bands_df = pandas.read_excel('bands_identified.xlsx')\n",
    "#bands_df.tail(10)\n",
    "music_df = music_df.reset_index().merge(bands_df, how='left', on='band_abbrev', suffixes=['', '_identified_name']).set_index('ID')\n",
    "music_df.loc[music_df['band_identified_name'].notnull(), 'band'] = music_df['band_identified_name']\n",
    "music_df.loc[music_df['band_identified_name'].notnull(), 'abbrev_type'] = 'assigned'\n",
    "music_df = music_df.drop('band_identified_name', axis=1)\n",
    "#music_df[music_df['abbrev_type'] == 'assigned']\n",
    "music_df.loc[(music_df['abbrev_type'] == 'assigned') & (music_df['band'] == 'notband'), 'abbrev_type'] = 'notband'\n",
    "music_df.loc[(music_df['abbrev_type'] == 'assigned') & (music_df['band'] == 'unknown'), 'abbrev_type'] = 'unknown'\n",
    "\n",
    "#print('ok')\n",
    "music_df_bk = music_df\n",
    "print(music_df.groupby('abbrev_type').size())\n",
    "#print(music_df.groupby('band').size().sort_values(ascending=False))"
   ]
  },
  {
   "cell_type": "code",
   "execution_count": 10,
   "metadata": {},
   "outputs": [
    {
     "name": "stdout",
     "output_type": "stream",
     "text": [
      "14 months parsed out of band abbrevs\n"
     ]
    }
   ],
   "source": [
    "# FIND CASES WHERE WE PARSED A MONTH NAME IN WITH A BAND NAME\n",
    "#music_df['band_abbrev_autoparsed'][\n",
    "#    music_df['band_abbrev_autoparsed'].apply(\n",
    "#        lambda x: 'dec' in x.lower())].apply(lambda x: '|'+x+'|').sort_values()\n",
    "\n",
    "music_df['month_in_band_abbrev'] = ''\n",
    "\n",
    "music_df.loc[music_df['band_abbrev_autoparsed'] == 'NickCave_Metro_Feb', ['band_abbrev', 'month_in_band_abbrev']] = ['nickcave', 'feb']\n",
    "music_df.loc[music_df['band_abbrev_autoparsed'] == 'PDP_LoungeAx_Feb', ['band_abbrev', 'month_in_band_abbrev']] = ['pdp', 'feb']\n",
    "music_df.loc[music_df['band_abbrev_autoparsed'] == 'The Jam Bolingbrook Mar ', ['band_abbrev', 'month_in_band_abbrev']] = ['pdp', 'mar']\n",
    "music_df.loc[music_df['band_abbrev_autoparsed'] == 'EHG - April ', ['band_abbrev', 'month_in_band_abbrev']] = ['ehg', 'apr']\n",
    "music_df.loc[music_df['band_abbrev_autoparsed'] == 'Bob Dylan - June ', ['band_abbrev', 'month_in_band_abbrev']] = ['bob dylan', 'jun']\n",
    "music_df.loc[music_df['band_abbrev_autoparsed'] == 'Mavis Staples - June ', ['band_abbrev', 'month_in_band_abbrev']] = ['mavis staples', 'jun']\n",
    "music_df.loc[music_df['band_abbrev_autoparsed'] == 'Casting Crowns Royals Stadium Kansas City Missouri July ', ['band_abbrev', 'month_in_band_abbrev']] = ['casting crowns', 'jul']\n",
    "music_df.loc[music_df['band_abbrev_autoparsed'] == 'Demiricous - July ', ['band_abbrev', 'month_in_band_abbrev']] = ['demiricous', 'jul']\n",
    "music_df.loc[music_df['band_abbrev_autoparsed'] == 'KISS Independence Mo Events Center July ', ['band_abbrev', 'month_in_band_abbrev']] = ['kiss', 'jul']\n",
    "music_df.loc[music_df['band_abbrev_autoparsed'] == 'Paul McCartney - July ', ['band_abbrev', 'month_in_band_abbrev']] = ['paul mccartney', 'jul']\n",
    "music_df.loc[music_df['band_abbrev_autoparsed'] == 'VAN MORRISON - Montreux July ', ['band_abbrev', 'month_in_band_abbrev']] = ['van morrison', 'jul']\n",
    "music_df.loc[music_df['band_abbrev_autoparsed'] == 'VM - Hamburg July ', ['band_abbrev', 'month_in_band_abbrev']] = ['vm', 'jul']\n",
    "music_df.loc[music_df['band_abbrev_autoparsed'] == 'Weird Al Yankovic - July ', ['band_abbrev', 'month_in_band_abbrev']] = ['weird al yankovic', 'jul']\n",
    "music_df.loc[music_df['band_abbrev_autoparsed'] == 'VM - Birmingham September ', ['band_abbrev', 'month_in_band_abbrev']] = ['vm', 'sep']\n",
    "\n",
    "print('{0:.0f} months parsed out of band abbrevs'.format(len(music_df[['filename', 'band_abbrev_autoparsed', 'band_abbrev', 'band', 'month_in_band_abbrev']][music_df['month_in_band_abbrev'] != ''])))\n",
    "#music_df['band_abbrev_autoparsed'].loc['566252.html']"
   ]
  },
  {
   "cell_type": "code",
   "execution_count": 11,
   "metadata": {},
   "outputs": [
    {
     "name": "stdout",
     "output_type": "stream",
     "text": [
      "date_format\n",
      "2 or 4 digit year, separator, 1 or 2 digit month, separator, 1 or 2 digit day     190\n",
      "byhand                                                                             64\n",
      "nodate                                                                           1408\n",
      "yy-mm-dd                                                                          131\n",
      "yyyy-mm-dd                                                                       1179\n",
      "dtype: int64\n"
     ]
    }
   ],
   "source": [
    "music_df = music_df_bk\n",
    "datefinder = re.compile('[\\d]+[\\s\\-\\._]+[\\d]+[\\s\\-\\._]+[\\d]+')\n",
    "yyyyfinder = re.compile('[\\d]{4}-[\\d]{2}-[\\d]{2}')\n",
    "yyfinder = re.compile('[\\d]{2}-[\\d]{2}-[\\d]{2}')\n",
    "date1 = re.compile('[\\d]{2,4}[\\s\\.\\-_]*[\\d]{1,2}[\\s\\.\\-_]*[\\d]{1,2}')\n",
    "\n",
    "music_df['thedate'] = pandas.to_datetime(music_df['postbandstuff'][music_df['postbandstuff'].apply(lambda x: re.search(datefinder, x)).notnull()].apply(lambda x: x[re.search(datefinder, x).start():re.search(datefinder, x).end()]), errors='coerce')\n",
    "\n",
    "music_df['date_format'] = 'otros'\n",
    "\n",
    "music_df.loc[(music_df['postbandstuff'].apply(lambda x: re.search(yyyyfinder, x)).notnull()), 'date_format'] = 'yyyy-mm-dd'\n",
    "music_df.loc[(music_df['date_format'] == 'otros') & (music_df['postbandstuff'].apply(lambda x: re.search(yyfinder, x)).notnull()), 'date_format'] = 'yy-mm-dd'\n",
    "\n",
    "music_df.loc[\n",
    "    (music_df['thedate'].isnull()) & \n",
    "    (music_df['postbandstuff'].apply(lambda x: re.search(date1, x)).notnull())\n",
    "    , 'thedate'] = pandas.to_datetime(music_df['postbandstuff'][(music_df['thedate'].isnull()) & (music_df['postbandstuff'].apply(lambda x: re.search(date1, x)).notnull())\n",
    "                                                               ].apply(lambda x: x[re.search(date1, x).start():re.search(date1, x).end()]), errors='coerce')\n",
    "music_df.loc[(music_df['date_format'] == 'otros') & (music_df['thedate'].notnull()), 'date_format'] = '2 or 4 digit year, separator, 1 or 2 digit month, separator, 1 or 2 digit day'\n",
    "\n",
    "# Set up year and month for filling in by hand\n",
    "music_df['theyear'] = np.nan\n",
    "music_df['themonth'] = np.nan\n",
    "music_df['theday'] = np.nan\n",
    "\n",
    "# Fix some dates by hand\n",
    "music_df.loc[['567662.html', '567649.html', '567750.html'], ['thedate', 'date_format']\n",
    "            ] = [pandas.to_datetime('2016-07-23'), 'byhand']\n",
    "music_df.loc[['565762.html', '565781.html'], ['thedate', 'date_format']\n",
    "            ] = [pandas.to_datetime('2016-07-03'), 'byhand']\n",
    "music_df.loc[['565838.html', '126834.html'], ['thedate', 'date_format']\n",
    "            ] = [pandas.to_datetime('2016-07-02'), 'byhand']\n",
    "music_df.loc[['565838.html', '126834.html'], ['thedate', 'date_format']\n",
    "            ] = [pandas.to_datetime('2016-07-02'), 'byhand']\n",
    "music_df.loc['566023.html', ['thedate', 'date_format']\n",
    "            ] = [pandas.to_datetime('2016-07-08'), 'byhand']\n",
    "music_df.loc['566144.html', ['thedate', 'date_format']\n",
    "            ] = [pandas.to_datetime('1982-11-05'), 'byhand']\n",
    "music_df.loc['566144.html', ['thedate', 'date_format']\n",
    "            ] = [pandas.to_datetime('1982-11-05'), 'byhand']\n",
    "music_df.loc['566231.html', ['thedate', 'date_format']\n",
    "            ] = [pandas.to_datetime('1988-02-29'), 'byhand']\n",
    "music_df.loc['566526.html', ['thedate', 'date_format']\n",
    "            ] = [pandas.to_datetime('1978-11-13'), 'byhand']\n",
    "music_df.loc['567038.html', ['thedate', 'date_format']\n",
    "            ] = [pandas.to_datetime('2003-09-23'), 'byhand']\n",
    "music_df.loc['567500.html', ['thedate', 'date_format']\n",
    "            ] = [pandas.to_datetime('2016-07-26'), 'byhand']\n",
    "music_df.loc[['567549.html', '127174.html'], ['thedate', 'date_format']\n",
    "            ] = [pandas.to_datetime('2016-07-27'), 'byhand']\n",
    "music_df.loc['566758.html', ['theyear', 'themonth', 'date_format']\n",
    "            ] = [1991, 7, 'byhand']\n",
    "\n",
    "# Discovered through regex search for [\\d]{6}\n",
    "music_df.loc['566210.html', ['thedate', 'date_format']] = [pandas.to_datetime('2016-01-08'), 'byhand']\n",
    "music_df.loc['566223.html', ['thedate', 'date_format']] = [pandas.to_datetime('1988-07-09'), 'byhand']\n",
    "music_df.loc['566252.html', ['thedate', 'date_format']] = [pandas.to_datetime('2016-07-09'), 'byhand']\n",
    "music_df.loc['567003.html', ['thedate', 'date_format']] = [pandas.to_datetime('2016-07-17'), 'byhand']\n",
    "music_df.loc['567140.html', ['thedate', 'date_format']] = [pandas.to_datetime('2016-07-20'), 'byhand']\n",
    "music_df.loc['567671.html', ['thedate', 'date_format']] = [pandas.to_datetime('1989-11-19'), 'byhand']\n",
    "music_df.loc['567872.html', ['thedate', 'date_format']] = [pandas.to_datetime('2016-07-30'), 'byhand']\n",
    "\n",
    "# Month wrongly parsed as part of band name\n",
    "music_df.loc[music_df['filename'] == 'NickCave_Metro_Feb18-1989_D6_909_T01.flac', ['thedate', 'date_format']] = [pandas.to_datetime('1989-02-18'), 'byhand']\n",
    "music_df.loc[music_df['filename'] == 'VM - Hamburg July 5th 1997_Disc 02 Track 02.flac', ['thedate', 'date_format']] = [pandas.to_datetime('1997-07-05'), 'byhand']\n",
    "music_df.loc[music_df['filename'] == 'EHG - April 29, 2016 - t01.flac', ['thedate', 'date_format']] = [pandas.to_datetime('2016-04-29'), 'byhand']\n",
    "music_df.loc[music_df['filename'] == 'Weird Al Yankovic - July 7, 2016 - t01.flac', ['thedate', 'date_format']] = [pandas.to_datetime('2016-07-07'), 'byhand']\n",
    "music_df.loc[music_df['filename'] == 'Bob Dylan - June 25, 2016 - t01.flac', ['thedate', 'date_format']] = [pandas.to_datetime('2016-06-25'), 'byhand']\n",
    "music_df.loc[music_df['filename'] == 'Mavis Staples - June 25, 2016 - t01.flac', ['thedate', 'date_format']] = [pandas.to_datetime('2016-06-25'), 'byhand']\n",
    "music_df.loc[music_df['filename'] == 'The Jam Bolingbrook Mar 7 1980 16.flac', ['thedate', 'date_format']] = [pandas.to_datetime('1980-03-07'), 'byhand']\n",
    "music_df.loc[music_df['filename'] == 'PDP_LoungeAx_Feb17-1990_D6_909_T01.flac', ['thedate', 'date_format']] = [pandas.to_datetime('1990-02-17'), 'byhand']\n",
    "music_df.loc[music_df['filename'] == 'Casting Crowns Royals Stadium Kansas City Missouri July 9th 201601.flac', ['thedate', 'date_format']] = [pandas.to_datetime('2016-07-09'), 'byhand']\n",
    "music_df.loc[music_df['filename'] == 'Paul McCartney - July 10, 2016 - t01.flac', ['thedate', 'date_format']] = [pandas.to_datetime('2016-07-10'), 'byhand']\n",
    "music_df.loc[music_df['filename'] == 'VAN MORRISON - Montreux July 7th 2016 (biddie)_Track 17.flac', ['thedate', 'date_format']] = [pandas.to_datetime('2016-07-07'), 'byhand']\n",
    "music_df.loc[music_df['filename'] == 'Demiricous - July 15, 2016 - t01.flac', ['thedate', 'date_format']] = [pandas.to_datetime('2016-07-15'), 'byhand']\n",
    "\n",
    "music_df.loc[music_df['filename'] == 'VM - Birmingham September 2nd 2011_Disc 01 Track 04.flac', ['thedate', 'date_format']] = [pandas.to_datetime('2011-09-02'), 'byhand']\n",
    "\n",
    "# Discovered by looking through each value\n",
    "music_df.loc['567291.html', ['thedate', 'date_format']] = [pandas.to_datetime('2000-02-25'), 'byhand']\n",
    "music_df.loc['567291.html', ['themonth', 'theday', 'date_format']] = [7, 4, 'byhand']\n",
    "music_df.loc['565561.html', ['thedate', 'date_format']] = [pandas.to_datetime('2011-09-06'), 'byhand']\n",
    "music_df.loc['567156.html', ['thedate', 'date_format']] = [pandas.to_datetime('2014-04-26'), 'byhand']\n",
    "music_df.loc['566417.html', ['thedate', 'date_format']] = [pandas.to_datetime('2013-03-08'), 'byhand']\n",
    "music_df.loc['565929.html', ['thedate', 'date_format']] = [pandas.to_datetime('2006-03-01'), 'byhand']\n",
    "music_df.loc['567639.html', ['thedate', 'date_format']] = [pandas.to_datetime('1975-01-03'), 'byhand']\n",
    "music_df.loc['587454.html', ['thedate', 'date_format']] = [pandas.to_datetime('2016-01-30'), 'byhand']\n",
    "music_df.loc['566234.html', ['thedate', 'date_format']] = [pandas.to_datetime('1979-11-18'), 'byhand']\n",
    "music_df.loc['567376.html', ['thedate', 'date_format']] = [pandas.to_datetime('1977-08-01'), 'byhand']\n",
    "music_df.loc['587339.html', ['thedate', 'date_format']] = [pandas.to_datetime('2016-02-19'), 'byhand']\n",
    "music_df.loc['567790.html', ['thedate', 'date_format']] = [pandas.to_datetime('2017-07-26'), 'byhand']\n",
    "music_df.loc['567790.html', ['thedate', 'date_format']] = [pandas.to_datetime('2016-07-22'), 'byhand']\n",
    "music_df.loc['566157.html', ['thedate', 'date_format']] = [pandas.to_datetime('1979-11-24'), 'byhand']\n",
    "music_df.loc['567572.html', ['thedate', 'date_format']] = [pandas.to_datetime('2016-07-22'), 'byhand']\n",
    "music_df.loc['565793.html', ['thedate', 'date_format']] = [pandas.to_datetime('1981-06-27'), 'byhand']\n",
    "music_df.loc['587337.html', ['thedate', 'date_format']] = [pandas.to_datetime('2016-06-03'), 'byhand']\n",
    "music_df.loc['587588.html', ['thedate', 'date_format']] = [pandas.to_datetime('2016-07-10'), 'byhand']\n",
    "music_df.loc['587640.html', ['thedate', 'date_format']] = [pandas.to_datetime('2016-07-08'), 'byhand']\n",
    "music_df.loc['587572.html', ['thedate', 'date_format']] = [pandas.to_datetime('2016-07-09'), 'byhand']\n",
    "music_df.loc['126880.html', ['thedate', 'date_format']] = [pandas.to_datetime('1988-10-01'), 'byhand']\n",
    "music_df.loc['567487.html', ['themonth', 'theday', 'date_format']] = [8, 14, 'byhand']\n",
    "music_df.loc['566266.html', ['themonth', 'theday', 'date_format']] = [11, 24, 'byhand']\n",
    "music_df.loc['565981.html', ['themonth', 'theday', 'date_format']] = [8, 29, 'byhand']\n",
    "music_df.loc['567478.html', ['theyear', 'themonth', 'date_format']] = [2000, 6, 'byhand']\n",
    "music_df.loc['567323.html', ['theyear', 'date_format']] = [1983, 'byhand']\n",
    "music_df.loc['567526.html', ['themonth', 'theday', 'date_format']] = [10, 13, 'byhand']\n",
    "music_df.loc['566219.html', ['theyear', 'date_format']] = [1990, 'byhand']\n",
    "music_df.loc['565891.html', ['theyear', 'date_format']] = [1989, 'byhand']\n",
    "music_df.loc['566208.html', ['theyear', 'themonth', 'date_format']] = [1972, 1, 'byhand']\n",
    "music_df.loc['e059e8d39da4b75145b1e434b0569df9c8f59367', ['theyear', 'date_format']] = [1995, 'byhand']\n",
    "music_df.loc['567222.html', ['themonth', 'theday', 'date_format']] = [2, 11, 'byhand']\n",
    "music_df.loc['566756.html', ['theyear', 'themonth', 'date_format']] = [2011, 1, 'byhand']\n",
    "music_df.loc['566756.html', ['theyear', 'themonth', 'date_format']] = [2016, 1, 'byhand']\n",
    "music_df.loc['566756.html', ['theyear', 'themonth', 'date_format']] = [1980, 7, 'byhand']\n",
    "\n",
    "\n",
    "music_df.loc[(music_df['theyear'].isnull()) & (music_df['thedate'].notnull())\n",
    "    , 'theyear'] = music_df['thedate'][(music_df['theyear'].isnull()) & (music_df['thedate'].notnull())\n",
    "                                      ].apply(lambda x: x.year)\n",
    "music_df.loc[(music_df['themonth'].isnull()) & (music_df['thedate'].notnull())\n",
    "    , 'themonth'] = music_df['thedate'][(music_df['themonth'].isnull()) & (music_df['thedate'].notnull())\n",
    "                                      ].apply(lambda x: x.month)\n",
    "music_df.loc[(music_df['theday'].isnull()) & (music_df['thedate'].notnull())\n",
    "    , 'theday'] = music_df['thedate'][(music_df['theday'].isnull()) & (music_df['thedate'].notnull())\n",
    "                                      ].apply(lambda x: x.day)\n",
    "\n",
    "music_df.loc[music_df['date_format'] == 'otros', 'date_format'] = 'nodate'\n",
    "\n",
    "music_df_bk = music_df\n",
    "print(music_df.groupby('date_format').size())\n"
   ]
  },
  {
   "cell_type": "code",
   "execution_count": 12,
   "metadata": {},
   "outputs": [
    {
     "data": {
      "text/plain": [
       "date_right_after_band\n",
       "False    1966\n",
       "True     1006\n",
       "dtype: int64"
      ]
     },
     "execution_count": 12,
     "metadata": {},
     "output_type": "execute_result"
    }
   ],
   "source": [
    "seps = re.compile('[\\s\\-\\.\\/\\\\_]')\n",
    "\n",
    "music_df = music_df_bk\n",
    "\n",
    "music_df['date_right_after_band'] = False\n",
    "music_df.loc[\n",
    "    (music_df['band_abbrev_autoparsed'] != '') &\n",
    "    ((music_df['band_abbrev_autoparsed'].apply(lambda x: re.search(seps, x[-1:])).isnull())) &\n",
    "    (music_df['postbandstuff'] != '') &\n",
    "    (music_df['postbandstuff'].apply(lambda x: re.search('\\d', x[0:])).notnull()) &\n",
    "    (music_df['thedate'].notnull() | music_df['theyear'].notnull() | music_df['themonth'].notnull() | music_df['theday'].notnull())\n",
    "    ,'date_right_after_band'] = True\n",
    "\n",
    "music_df_bk = music_df\n",
    "music_df.groupby('date_right_after_band').size()"
   ]
  },
  {
   "cell_type": "code",
   "execution_count": 13,
   "metadata": {},
   "outputs": [
    {
     "data": {
      "text/plain": [
       "ID\n",
       "565729.html    01 Hells Bells.flac\n",
       "Name: filename, dtype: object"
      ]
     },
     "execution_count": 13,
     "metadata": {},
     "output_type": "execute_result"
    }
   ],
   "source": [
    "#music_df.loc[(music_df[''])]\n",
    "music_df = music_df_bk\n",
    "\n",
    "# Full 4 points for: \n",
    "#    * band abbrev is canonical or assigned (correct but not in etree's list)\n",
    "#    * date directly follows band with no space between\n",
    "#    * date is correctly formatted as yyyy-mm-dd\n",
    "\n",
    "music_df.loc[\n",
    "    (music_df['abbrev_type'].apply(lambda x: x in ['canonical', 'assigned'])) & \n",
    "    (music_df['date_format'] == 'yyyy-mm-dd') & \n",
    "    (music_df['date_right_after_band']), 'score'] = 4\n",
    "\n",
    "# Score goes down to 3 if...\n",
    "#    date is formatted as yy-mm-dd, OR\n",
    "music_df.loc[\n",
    "    (music_df['abbrev_type'].apply(lambda x: x in ['canonical', 'assigned'])) & \n",
    "    (music_df['date_format'] == 'yy-mm-dd') & \n",
    "    (music_df['date_right_after_band']), 'score'] = 3\n",
    "\n",
    "#    date does not directly follow band, OR\n",
    "music_df.loc[\n",
    "    (music_df['abbrev_type'].apply(lambda x: x in ['canonical', 'assigned'])) & \n",
    "    (music_df['date_format'] == 'yyyy-mm-dd') & \n",
    "    (~music_df['date_right_after_band']), 'score'] = 3\n",
    "\n",
    "#    they use a variant abbreviation\n",
    "music_df.loc[\n",
    "    (music_df['abbrev_type'].apply(lambda x: x in ['variant'])) & \n",
    "    (music_df['date_format'] == 'yyyy-mm-dd') & \n",
    "    (music_df['date_right_after_band']), 'score'] = 4\n",
    "\n",
    "# Score goes down to 2 if...\n",
    "#    date is present and readable but formatted strangely, OR\n",
    "music_df.loc[\n",
    "    (music_df['abbrev_type'].apply(lambda x: x in ['canonical', 'assigned', 'variant'])) & \n",
    "    (music_df['date_format'].apply(lambda x: \n",
    "                                   x in ['2 or 4 digit year, separator, 1 or 2 digit month, separator, 1 or 2 digit day', 'byhand']))\\\n",
    "    , 'score'] = 2\n",
    "\n",
    "#    if the band has a correct abbreviation but they used an incorrect one\n",
    "music_df.loc[\n",
    "    (music_df['abbrev_type'].apply(lambda x: x in ['incorrect'])) & \n",
    "    (music_df['date_format'].apply(lambda x: \n",
    "                                   x in ['yyyy-mm-dd', 'yy-mm-dd']))\n",
    "    , 'score'] = 2\n",
    "\n",
    "# Score = 0 if there is no band AND no date\n",
    "music_df.loc[\n",
    "    (music_df['abbrev_type'].apply(lambda x: x in ['blank', 'notband'])) & \n",
    "    (music_df['date_format'] == 'nodate'), 'score'] = 0\n",
    "\n",
    "# OTHERWISE, score = 1\n",
    "music_df.loc[music_df['score'] == -9999, 'score'] = 1\n",
    "\n",
    "music_df_bk = music_df\n",
    "#music_df.groupby('score').size()\n",
    "#music_df[['filename', 'source', 'filetype', 'band_abbrev', 'abbrev_type', 'band', 'thedate', 'date_format', 'date_right_after_band', 'score']][\n",
    "music_df['filename'][music_df['score'] ==  0].sample(1)"
   ]
  },
  {
   "cell_type": "code",
   "execution_count": 14,
   "metadata": {},
   "outputs": [
    {
     "name": "stdout",
     "output_type": "stream",
     "text": [
      "ok\n"
     ]
    }
   ],
   "source": [
    "music_df[['filename', 'source', 'filetype', 'band_abbrev', 'abbrev_type', 'band', 'thedate', 'date_format', 'date_right_after_band', 'score']\n",
    "        ].sort_values(by='score', ascending=False).to_csv('outmusic.csv')\n",
    "print('ok')"
   ]
  },
  {
   "cell_type": "code",
   "execution_count": 15,
   "metadata": {},
   "outputs": [
    {
     "name": "stdout",
     "output_type": "stream",
     "text": [
      "ok\n"
     ]
    }
   ],
   "source": [
    "small_sample_cutoff_value = 4\n",
    "\n",
    "music_df['band'] = music_df['band'].fillna('blank')\n",
    "\n",
    "stats_allbands_df = music_df.groupby('band')['score'].describe()\n",
    "\n",
    "stats_df = stats_allbands_df[stats_allbands_df['count'] >= small_sample_cutoff_value]\n",
    "\n",
    "miscbandlist = stats_allbands_df[~stats_allbands_df.index.isin(stats_df.index)].index.values.tolist()\n",
    "\n",
    "miscband_df = pandas.DataFrame(data=['All other bands'], columns=['band'])\n",
    "for thiscol in stats_df.columns:\n",
    "    miscband_df[thiscol] = np.nan\n",
    "\n",
    "miscband_df['count'] = music_df[music_df['band'].isin(miscbandlist)]['score'].count()\n",
    "miscband_df['mean'] = music_df[music_df['band'].isin(miscbandlist)]['score'].mean()\n",
    "miscband_df['std'] = music_df[music_df['band'].isin(miscbandlist)]['score'].std()\n",
    "miscband_df['min'] = music_df[music_df['band'].isin(miscbandlist)]['score'].min()\n",
    "miscband_df['25%']= music_df[music_df['band'].isin(miscbandlist)]['score'].quantile(0.25)\n",
    "miscband_df['50%']= music_df[music_df['band'].isin(miscbandlist)]['score'].quantile(0.5)\n",
    "miscband_df['75%']= music_df[music_df['band'].isin(miscbandlist)]['score'].quantile(0.75)\n",
    "miscband_df['max'] = music_df[music_df['band'].isin(miscbandlist)]['score'].max()\n",
    "miscband_df = miscband_df.set_index('band')\n",
    "\n",
    "stats_df = stats_df.append(miscband_df)\n",
    "\n",
    "print('ok')"
   ]
  },
  {
   "cell_type": "code",
   "execution_count": 16,
   "metadata": {},
   "outputs": [
    {
     "data": {
      "text/html": [
       "<table><tr><th>Band</th><th>Count (n)</th><th>Mean (M)</th><th>Standard deviation (S)</th><tr><td>Big Smith</td><td>5</td><td>4.0</td><td>0.00</td></tr><tr><td>Dean Monkey & The Dropouts</td><td>15</td><td>4.0</td><td>0.00</td></tr><tr><td>Head for the Hills</td><td>4</td><td>4.0</td><td>0.00</td></tr><tr><td>Raccoon</td><td>4</td><td>4.0</td><td>0.00</td></tr><tr><td>String Cheese Incident</td><td>4</td><td>4.0</td><td>0.00</td></tr><tr><td>Gov't Mule</td><td>4</td><td>4.0</td><td>0.00</td></tr><tr><td>The Pixies</td><td>4</td><td>4.0</td><td>0.00</td></tr><tr><td>TBC</td><td>4</td><td>4.0</td><td>0.00</td></tr><tr><td>Dave Matthews Band</td><td>9</td><td>4.0</td><td>0.00</td></tr><tr><td>Chris Robinson Brotherhood</td><td>11</td><td>4.0</td><td>0.00</td></tr><tr><td>Greensky Bluegrass</td><td>11</td><td>3.9</td><td>0.30</td></tr><tr><td>Pearl Jam</td><td>17</td><td>3.9</td><td>0.33</td></tr><tr><td>Widespread Panic</td><td>42</td><td>3.8</td><td>0.45</td></tr><tr><td>Phish</td><td>89</td><td>3.8</td><td>0.47</td></tr><tr><td>Los Lobos</td><td>15</td><td>3.7</td><td>0.59</td></tr><tr><td>Mavis Staples</td><td>7</td><td>3.7</td><td>0.76</td></tr><tr><td>Jerry Garcia</td><td>13</td><td>3.6</td><td>0.87</td></tr><tr><td>Eric Krasno Band</td><td>5</td><td>3.6</td><td>0.89</td></tr><tr><td>Dead & Company</td><td>54</td><td>3.5</td><td>0.82</td></tr><tr><td>Neil Young</td><td>17</td><td>3.5</td><td>0.62</td></tr><tr><td>Bob Dylan</td><td>25</td><td>3.5</td><td>0.59</td></tr><tr><td>Wilco</td><td>8</td><td>3.5</td><td>0.76</td></tr><tr><td>Jerry Garcia Band</td><td>8</td><td>3.5</td><td>0.53</td></tr><tr><td>Leftover Salmon</td><td>4</td><td>3.5</td><td>1.00</td></tr><tr><td>New Model Army</td><td>4</td><td>3.5</td><td>0.58</td></tr><tr><td>Jerry Garcia & Merl Saunders</td><td>27</td><td>3.4</td><td>0.93</td></tr><tr><td>Tedeschi Trucks Band</td><td>15</td><td>3.4</td><td>0.99</td></tr><tr><td>Grateful Dead</td><td>135</td><td>3.3</td><td>0.50</td></tr><tr><td>U2</td><td>11</td><td>3.3</td><td>1.01</td></tr><tr><td>David Gilmour</td><td>4</td><td>3.2</td><td>0.96</td></tr><tr><td>Warren Haynes</td><td>4</td><td>3.2</td><td>0.96</td></tr><tr><td>Paul McCartney</td><td>4</td><td>3.2</td><td>0.96</td></tr><tr><td>Guns 'n' Roses</td><td>4</td><td>3.2</td><td>1.50</td></tr><tr><td>Radiohead</td><td>8</td><td>3.2</td><td>1.04</td></tr><tr><td>Jack Johnson</td><td>5</td><td>3.2</td><td>1.10</td></tr><tr><td>Red Hot Chili Peppers</td><td>5</td><td>3.0</td><td>1.22</td></tr><tr><td>Xenakis</td><td>4</td><td>3.0</td><td>0.00</td></tr><tr><td>The Marcus King Band</td><td>4</td><td>3.0</td><td>1.15</td></tr><tr><td>Tal Wilkenfeld</td><td>6</td><td>3.0</td><td>0.00</td></tr><tr><td>Steve Marriott</td><td>7</td><td>3.0</td><td>0.00</td></tr><tr><td>Jefferson Starship</td><td>11</td><td>2.9</td><td>0.30</td></tr><tr><td>Primus</td><td>5</td><td>2.8</td><td>0.84</td></tr><tr><td>Humble Pie</td><td>5</td><td>2.8</td><td>0.45</td></tr><tr><td>The Ramones</td><td>4</td><td>2.8</td><td>0.50</td></tr><tr><td>Keith Jarrett</td><td>4</td><td>2.8</td><td>0.50</td></tr><tr><td>The Cure</td><td>4</td><td>2.8</td><td>1.26</td></tr><tr><td>The Who</td><td>8</td><td>2.8</td><td>0.71</td></tr><tr><td>The Clash</td><td>6</td><td>2.7</td><td>0.82</td></tr><tr><td>Joe Jackson</td><td>5</td><td>2.6</td><td>1.52</td></tr><tr><td>The Jam</td><td>12</td><td>2.2</td><td>0.39</td></tr><tr><td>Exit Clov</td><td>4</td><td>2.0</td><td>0.00</td></tr><tr><td>Jefferson Airplane</td><td>4</td><td>2.0</td><td>0.00</td></tr><tr><td>Seismic</td><td>5</td><td>2.0</td><td>0.00</td></tr><tr><td>Hawkwind</td><td>4</td><td>2.0</td><td>0.00</td></tr><tr><td>The London Souls</td><td>4</td><td>2.0</td><td>0.00</td></tr><tr><td>Stockholm Syndrome</td><td>4</td><td>2.0</td><td>0.00</td></tr><tr><td>Joe Walsh</td><td>5</td><td>1.8</td><td>0.45</td></tr><tr><td>Fantastic 4</td><td>4</td><td>1.8</td><td>1.50</td></tr><tr><td>Jeff Beck</td><td>7</td><td>1.4</td><td>1.13</td></tr><tr><td>Wagner</td><td>4</td><td>1.0</td><td>0.00</td></tr><tr><td>Black Sabbath</td><td>4</td><td>1.0</td><td>0.00</td></tr><tr><td>Larry Carlton</td><td>8</td><td>1.0</td><td>0.00</td></tr><tr><td>All other bands</td><td>772</td><td>2.9</td><td>1.04</td></tr><tr><td>unknown</td><td>71</td><td>1.0</td><td>0.00</td></tr><tr><td>notband</td><td>90</td><td>0.2</td><td>0.37</td></tr><tr><td>blank</td><td>1,292</td><td>0.1</td><td>0.39</td></tr></table>"
      ],
      "text/plain": [
       "<IPython.core.display.HTML object>"
      ]
     },
     "metadata": {},
     "output_type": "display_data"
    }
   ],
   "source": [
    "stats_df = stats_df.sort_values(by='mean', ascending=False)\n",
    "\n",
    "newindex = stats_df[~stats_df.index.isin(['All other bands', 'unknown', 'notband', 'blank'])].index\n",
    "othertypeslist = ['All other bands', 'unknown', 'notband', 'blank']\n",
    "othertypesindex = pandas.Index(othertypeslist)\n",
    "newindex = newindex.append(othertypesindex)\n",
    "stats_df = stats_df.reindex(newindex)\n",
    "\n",
    "htmlstring = '<table>'\n",
    "#htmlstring += '<tr><th>Band</th><th>Count (n)</th><th>Mean (M)</th><th>Standard deviation (S)</th><th>Minimum</th><th>25th percentile</th><th>Median</th><th>75th percentile</th><th>Maximum</th></tr>'\n",
    "htmlstring += '<tr><th>Band</th><th>Count (n)</th><th>Mean (M)</th><th>Standard deviation (S)</th>'\n",
    "for thisband, thisrow in stats_df[['count', 'mean', 'std']].iterrows():\n",
    "    htmlstring += '<tr>'\n",
    "    htmlstring += '<td>{:}</td>'.format(thisband)\n",
    "    htmlstring += '<td>{:,.0f}</td>'.format(thisrow['count'])\n",
    "    htmlstring += '<td>{:.1f}</td>'.format(thisrow['mean'])\n",
    "    htmlstring += '<td>{:.2f}</td>'.format(thisrow['std'])\n",
    "    htmlstring += '</tr>'\n",
    "htmlstring += '</table>'        \n",
    "display(HTML(htmlstring))"
   ]
  },
  {
   "cell_type": "code",
   "execution_count": 17,
   "metadata": {
    "scrolled": false
   },
   "outputs": [
    {
     "data": {
      "text/html": [
       "<table><tr><th>Jam Band?</th><th>Filenames (n)</th><th>Mean (M)</th><th>Standard deviation (S)</th><tr><td>yes</td><td>405</td><td>3.5</td><td>0.65</td></tr><tr><td>maybe</td><td>19</td><td>3.6</td><td>0.77</td></tr><tr><td>no</td><td>1,108</td><td>3.0</td><td>1.03</td></tr><tr><td>n/a</td><td>1,453</td><td>0.2</td><td>0.43</td></tr></table>"
      ],
      "text/plain": [
       "<IPython.core.display.HTML object>"
      ]
     },
     "metadata": {},
     "output_type": "display_data"
    }
   ],
   "source": [
    "music_df = music_df_bk\n",
    "\n",
    "jambands_df = pandas.read_csv('jambands/jambands.csv')\n",
    "\n",
    "music_df = music_df.reset_index().merge(jambands_df, on='band', how='left').set_index('ID')\n",
    "music_df.loc[(music_df['band'].apply(lambda x: x not in ['blank', 'notband', 'unknown'])) & (music_df['jamband'].isnull()), 'jamband'] = 'no'\n",
    "music_df['jamband'] = music_df['jamband'].fillna('n/a')\n",
    "\n",
    "jamband_stats_df = music_df.groupby('jamband')['score'].describe()\n",
    "\n",
    "newindex = pandas.Index(['yes', 'maybe', 'no', 'n/a'])\n",
    "jamband_stats_df = jamband_stats_df.reindex(newindex)\n",
    "\n",
    "htmlstring = '<table>'\n",
    "#htmlstring += '<tr><th>Band</th><th>Count (n)</th><th>Mean (M)</th><th>Standard deviation (S)</th><th>Minimum</th><th>25th percentile</th><th>Median</th><th>75th percentile</th><th>Maximum</th></tr>'\n",
    "htmlstring += '<tr><th>Jam Band?</th><th>Filenames (n)</th><th>Mean (M)</th><th>Standard deviation (S)</th>'\n",
    "for thisband, thisrow in jamband_stats_df[['count', 'mean', 'std']].iterrows():\n",
    "    htmlstring += '<tr>'\n",
    "    htmlstring += '<td>{:}</td>'.format(thisband)\n",
    "    htmlstring += '<td>{:,.0f}</td>'.format(thisrow['count'])\n",
    "    htmlstring += '<td>{:.1f}</td>'.format(thisrow['mean'])\n",
    "    htmlstring += '<td>{:.2f}</td>'.format(thisrow['std'])\n",
    "    htmlstring += '</tr>'\n",
    "htmlstring += '</table>'        \n",
    "display(HTML(htmlstring))"
   ]
  },
  {
   "cell_type": "code",
   "execution_count": 18,
   "metadata": {},
   "outputs": [
    {
     "data": {
      "text/html": [
       "<h2>t-tests!</h2><h3>yes vs. no</h3><table><tr><th>Jam band?</th><th>Mean (M)</th><th>St Dev (S)</th><th>Count (n)</th></tr><td>yes</td><td>3.5</td><td>0.65</td><td>405</td></tr><td>no</td><td>3.0</td><td>1.03</td><td>1,108</td></tr></table>"
      ],
      "text/plain": [
       "<IPython.core.display.HTML object>"
      ]
     },
     "metadata": {},
     "output_type": "display_data"
    },
    {
     "name": "stdout",
     "output_type": "stream",
     "text": [
      "t = 10.038, p = 0.000\n"
     ]
    },
    {
     "data": {
      "text/html": [
       "<h3>yes vs. maybe</h3><table><tr><th>Jam band?</th><th>Mean (M)</th><th>St Dev (S)</th><th>Count (n)</th></tr><td>yes</td><td>3.5</td><td>0.65</td><td>405</td></tr><td>maybe</td><td>3.6</td><td>0.77</td><td>19</td></tr></table>"
      ],
      "text/plain": [
       "<IPython.core.display.HTML object>"
      ]
     },
     "metadata": {},
     "output_type": "display_data"
    },
    {
     "name": "stdout",
     "output_type": "stream",
     "text": [
      "t = -0.247, p = 0.805\n"
     ]
    }
   ],
   "source": [
    "htmlstring = '<h2>t-tests!</h2>'\n",
    "\n",
    "\n",
    "htmlstring += '<h3>yes vs. no</h3>'\n",
    "\n",
    "htmlstring += '<table>'\n",
    "htmlstring += '<tr><th>Jam band?</th><th>Mean (M)</th><th>St Dev (S)</th><th>Count (n)</th></tr>'\n",
    "\n",
    "for g in ['yes', 'no']:\n",
    "    htmlstring += '<td>{0:}</td><td>{1:.1f}</td><td>{2:.2f}</td><td>{3:,.0f}</td></tr>'.format(\n",
    "         g,\n",
    "         jamband_stats_df['mean'].loc[g], \n",
    "         jamband_stats_df['std'].loc[g], \n",
    "         jamband_stats_df['count'].loc[g])\n",
    "#y\n",
    "htmlstring += '</table>'\n",
    "display(HTML(htmlstring))\n",
    "\n",
    "group1 = music_df['score'][music_df['jamband'] == 'yes']\n",
    "group2 = music_df['score'][music_df['jamband'] == 'no']\n",
    "\n",
    "t, p = scipy.stats.ttest_ind(group1, group2)\n",
    "print('t = {0:.3f}, p = {1:.3f}'.format(t, p))\n",
    "\n",
    "\n",
    "htmlstring = '<h3>yes vs. maybe</h3>'\n",
    "\n",
    "htmlstring += '<table>'\n",
    "htmlstring += '<tr><th>Jam band?</th><th>Mean (M)</th><th>St Dev (S)</th><th>Count (n)</th></tr>'\n",
    "\n",
    "for g in ['yes', 'maybe']:\n",
    "    htmlstring += '<td>{0:}</td><td>{1:.1f}</td><td>{2:.2f}</td><td>{3:,.0f}</td></tr>'.format(\n",
    "         g,\n",
    "         jamband_stats_df['mean'].loc[g], \n",
    "         jamband_stats_df['std'].loc[g], \n",
    "         jamband_stats_df['count'].loc[g])\n",
    "htmlstring += '</table>'\n",
    "display(HTML(htmlstring))\n",
    "\n",
    "group1 = music_df['score'][music_df['jamband'] == 'yes']\n",
    "group2 = music_df['score'][music_df['jamband'] == 'maybe']\n",
    "\n",
    "t, p = scipy.stats.ttest_ind(group1, group2)\n",
    "print('t = {0:.3f}, p = {1:.3f}'.format(t, p))\n",
    "\n"
   ]
  },
  {
   "cell_type": "markdown",
   "metadata": {
    "collapsed": true
   },
   "source": [
    "## Conclusion: We can consider yes and maybe together."
   ]
  },
  {
   "cell_type": "code",
   "execution_count": 19,
   "metadata": {},
   "outputs": [
    {
     "data": {
      "text/html": [
       "<table><tr><th>Jam Band?</th><th>Filenames (n)</th><th>Mean (M)</th><th>Standard deviation (S)</th><tr><td>yes</td><td>424</td><td>3.5</td><td>0.66</td></tr><tr><td>no</td><td>1,108</td><td>3.0</td><td>1.03</td></tr><tr><td>n/a</td><td>1,453</td><td>0.2</td><td>0.43</td></tr></table>"
      ],
      "text/plain": [
       "<IPython.core.display.HTML object>"
      ]
     },
     "metadata": {},
     "output_type": "display_data"
    }
   ],
   "source": [
    "music_df = music_df_bk\n",
    "music_df['band'] = music_df['band'].fillna('blank')\n",
    "\n",
    "jambands_df = pandas.read_csv('jambands/jambands.csv')\n",
    "jambands_df.loc[jambands_df['jamband'] == 'maybe', 'jamband'] = 'yes'\n",
    "\n",
    "music_df = music_df.reset_index().merge(jambands_df, on='band', how='left').set_index('ID')\n",
    "music_df.loc[(music_df['band'].apply(lambda x: x not in ['blank', 'notband', 'unknown'])) & (music_df['jamband'].isnull()), 'jamband'] = 'no'\n",
    "music_df['jamband'] = music_df['jamband'].fillna('n/a')\n",
    "jamband_stats_df = music_df.groupby('jamband')['score'].describe()\n",
    "\n",
    "newindex = pandas.Index(['yes', 'no', 'n/a'])\n",
    "jamband_stats_df = jamband_stats_df.reindex(newindex)\n",
    "htmlstring = '<table>'\n",
    "#htmlstring += '<tr><th>Band</th><th>Count (n)</th><th>Mean (M)</th><th>Standard deviation (S)</th><th>Minimum</th><th>25th percentile</th><th>Median</th><th>75th percentile</th><th>Maximum</th></tr>'\n",
    "htmlstring += '<tr><th>Jam Band?</th><th>Filenames (n)</th><th>Mean (M)</th><th>Standard deviation (S)</th>'\n",
    "for thisband, thisrow in jamband_stats_df[['count', 'mean', 'std']].iterrows():\n",
    "    htmlstring += '<tr>'\n",
    "    htmlstring += '<td>{:}</td>'.format(thisband)\n",
    "    htmlstring += '<td>{:,.0f}</td>'.format(thisrow['count'])\n",
    "    htmlstring += '<td>{:.1f}</td>'.format(thisrow['mean'])\n",
    "    htmlstring += '<td>{:.2f}</td>'.format(thisrow['std'])\n",
    "    htmlstring += '</tr>'\n",
    "htmlstring += '</table>'        \n",
    "display(HTML(htmlstring))"
   ]
  },
  {
   "cell_type": "code",
   "execution_count": 20,
   "metadata": {},
   "outputs": [
    {
     "data": {
      "text/html": [
       "<h2>t-tests!</h2><h3>yes vs. no</h3><table><tr><th>Jam band?</th><th>Mean (M)</th><th>St Dev (S)</th><th>Count (n)</th></tr><td>yes</td><td>3.5</td><td>0.66</td><td>424</td></tr><td>no</td><td>3.0</td><td>1.03</td><td>1,108</td></tr></table>"
      ],
      "text/plain": [
       "<IPython.core.display.HTML object>"
      ]
     },
     "metadata": {},
     "output_type": "display_data"
    },
    {
     "name": "stdout",
     "output_type": "stream",
     "text": [
      "t = 10.263, p = 0.000\n"
     ]
    }
   ],
   "source": [
    "htmlstring = '<h2>t-tests!</h2>'\n",
    "\n",
    "\n",
    "htmlstring += '<h3>yes vs. no</h3>'\n",
    "\n",
    "htmlstring += '<table>'\n",
    "htmlstring += '<tr><th>Jam band?</th><th>Mean (M)</th><th>St Dev (S)</th><th>Count (n)</th></tr>'\n",
    "\n",
    "for g in ['yes', 'no']:\n",
    "    htmlstring += '<td>{0:}</td><td>{1:.1f}</td><td>{2:.2f}</td><td>{3:,.0f}</td></tr>'.format(\n",
    "         g,\n",
    "         jamband_stats_df['mean'].loc[g], \n",
    "         jamband_stats_df['std'].loc[g], \n",
    "         jamband_stats_df['count'].loc[g])\n",
    "#y\n",
    "htmlstring += '</table>'\n",
    "display(HTML(htmlstring))\n",
    "\n",
    "group1 = music_df['score'][music_df['jamband'] == 'yes']\n",
    "group2 = music_df['score'][music_df['jamband'] == 'no']\n",
    "\n",
    "t, p = scipy.stats.ttest_ind(group1, group2)\n",
    "print('t = {0:.3f}, p = {1:.3f}'.format(t, p))"
   ]
  },
  {
   "cell_type": "code",
   "execution_count": 21,
   "metadata": {},
   "outputs": [
    {
     "data": {
      "text/html": [
       "<table><tr><th>Jam Band?</th><th>Filenames (n)</th><th>Mean (M)</th><th>Standard deviation (S)</th><tr><td>yes</td><td>424</td><td>3.5</td><td>0.66</td></tr><tr><td>popular no</td><td>368</td><td>3.1</td><td>1.02</td></tr><tr><td>rare no</td><td>740</td><td>2.9</td><td>1.04</td></tr><tr><td>n/a</td><td>1,453</td><td>0.2</td><td>0.43</td></tr></table>"
      ],
      "text/plain": [
       "<IPython.core.display.HTML object>"
      ]
     },
     "metadata": {},
     "output_type": "display_data"
    }
   ],
   "source": [
    "music_df = music_df_bk\n",
    "music_df['band'] = music_df['band'].fillna('blank')\n",
    "\n",
    "jambands_df = pandas.read_csv('jambands/jambands.csv')\n",
    "jambands_df.loc[jambands_df['jamband'] == 'maybe', 'jamband'] = 'yes'\n",
    "music_df = music_df.reset_index().merge(jambands_df, on='band', how='left').set_index('ID')\n",
    "music_df.loc[(music_df['band'].apply(lambda x: x not in ['blank', 'notband', 'unknown'])) & (music_df['jamband'].isnull()), 'jamband'] = 'no'\n",
    "music_df['jamband'] = music_df['jamband'].fillna('n/a')\n",
    "\n",
    "small_sample_cutoff_value = 4\n",
    "\n",
    "stats_allbands_df = music_df.groupby('band')['score'].describe()\n",
    "\n",
    "stats_df = stats_allbands_df[stats_allbands_df['count'] >= small_sample_cutoff_value]\n",
    "\n",
    "miscbandlist = stats_allbands_df[~stats_allbands_df.index.isin(stats_df.index)].index.values.tolist()\n",
    "\n",
    "#print('ok')\n",
    "music_df.loc[(music_df['jamband'] == 'no') & (~music_df['band'].isin(miscbandlist)), 'jamband'] = 'popular no'\n",
    "music_df.loc[(music_df['jamband'] == 'no') & (music_df['band'].isin(miscbandlist)), 'jamband'] = 'rare no'\n",
    "\n",
    "music_df['jamband'] = music_df['jamband'].fillna('n/a')\n",
    "jamband_stats_df = music_df.groupby('jamband')['score'].describe()\n",
    "\n",
    "newindex = pandas.Index(['yes', 'popular no', 'rare no', 'n/a'])\n",
    "jamband_stats_df = jamband_stats_df.reindex(newindex)\n",
    "htmlstring = '<table>'\n",
    "#htmlstring += '<tr><th>Band</th><th>Count (n)</th><th>Mean (M)</th><th>Standard deviation (S)</th><th>Minimum</th><th>25th percentile</th><th>Median</th><th>75th percentile</th><th>Maximum</th></tr>'\n",
    "htmlstring += '<tr><th>Jam Band?</th><th>Filenames (n)</th><th>Mean (M)</th><th>Standard deviation (S)</th>'\n",
    "for thisband, thisrow in jamband_stats_df[['count', 'mean', 'std']].iterrows():\n",
    "    htmlstring += '<tr>'\n",
    "    htmlstring += '<td>{:}</td>'.format(thisband)\n",
    "    htmlstring += '<td>{:,.0f}</td>'.format(thisrow['count'])\n",
    "    htmlstring += '<td>{:.1f}</td>'.format(thisrow['mean'])\n",
    "    htmlstring += '<td>{:.2f}</td>'.format(thisrow['std'])\n",
    "    htmlstring += '</tr>'\n",
    "htmlstring += '</table>'        \n",
    "display(HTML(htmlstring))"
   ]
  },
  {
   "cell_type": "code",
   "execution_count": 22,
   "metadata": {},
   "outputs": [
    {
     "data": {
      "text/html": [
       "<h2>t-tests!</h2><h3>popular no vs. rare no</h3><table><tr><th>Jam band?</th><th>Mean (M)</th><th>St Dev (S)</th><th>Count (n)</th></tr><td>popular no</td><td>3.1</td><td>1.02</td><td>368</td></tr><td>rare no</td><td>2.9</td><td>1.04</td><td>740</td></tr></table>"
      ],
      "text/plain": [
       "<IPython.core.display.HTML object>"
      ]
     },
     "metadata": {},
     "output_type": "display_data"
    },
    {
     "name": "stdout",
     "output_type": "stream",
     "text": [
      "t = 2.181, p = 0.029\n"
     ]
    },
    {
     "data": {
      "text/html": [
       "<h3>yes vs. popular no</h3><table><tr><th>Jam band?</th><th>Mean (M)</th><th>St Dev (S)</th><th>Count (n)</th></tr><td>yes</td><td>3.5</td><td>0.66</td><td>424</td></tr><td>popular no</td><td>3.1</td><td>1.02</td><td>368</td></tr></table>"
      ],
      "text/plain": [
       "<IPython.core.display.HTML object>"
      ]
     },
     "metadata": {},
     "output_type": "display_data"
    },
    {
     "name": "stdout",
     "output_type": "stream",
     "text": [
      "t = 7.601, p = 0.000\n"
     ]
    }
   ],
   "source": [
    "htmlstring = '<h2>t-tests!</h2>'\n",
    "\n",
    "\n",
    "htmlstring += '<h3>popular no vs. rare no</h3>'\n",
    "\n",
    "htmlstring += '<table>'\n",
    "htmlstring += '<tr><th>Jam band?</th><th>Mean (M)</th><th>St Dev (S)</th><th>Count (n)</th></tr>'\n",
    "\n",
    "for g in ['popular no', 'rare no']:\n",
    "    htmlstring += '<td>{0:}</td><td>{1:.1f}</td><td>{2:.2f}</td><td>{3:,.0f}</td></tr>'.format(\n",
    "         g,\n",
    "         jamband_stats_df['mean'].loc[g], \n",
    "         jamband_stats_df['std'].loc[g], \n",
    "         jamband_stats_df['count'].loc[g])\n",
    "#y\n",
    "htmlstring += '</table>'\n",
    "\n",
    "display(HTML(htmlstring))\n",
    "\n",
    "group1 = music_df['score'][music_df['jamband'] == 'popular no']\n",
    "group2 = music_df['score'][music_df['jamband'] == 'rare no']\n",
    "\n",
    "t, p = scipy.stats.ttest_ind(group1, group2)\n",
    "print('t = {0:.3f}, p = {1:.3f}'.format(t, p))\n",
    "\n",
    "\n",
    "htmlstring = '<h3>yes vs. popular no</h3>'\n",
    "\n",
    "htmlstring += '<table>'\n",
    "htmlstring += '<tr><th>Jam band?</th><th>Mean (M)</th><th>St Dev (S)</th><th>Count (n)</th></tr>'\n",
    "\n",
    "for g in ['yes', 'popular no']:\n",
    "    htmlstring += '<td>{0:}</td><td>{1:.1f}</td><td>{2:.2f}</td><td>{3:,.0f}</td></tr>'.format(\n",
    "         g,\n",
    "         jamband_stats_df['mean'].loc[g], \n",
    "         jamband_stats_df['std'].loc[g], \n",
    "         jamband_stats_df['count'].loc[g])\n",
    "#y\n",
    "htmlstring += '</table>'\n",
    "display(HTML(htmlstring))\n",
    "\n",
    "\n",
    "group1 = music_df['score'][music_df['jamband'] == 'yes']\n",
    "group2 = music_df['score'][music_df['jamband'] == 'popular no']\n",
    "\n",
    "t, p = scipy.stats.ttest_ind(group1, group2)\n",
    "print('t = {0:.3f}, p = {1:.3f}'.format(t, p))\n"
   ]
  },
  {
   "cell_type": "code",
   "execution_count": null,
   "metadata": {
    "collapsed": true
   },
   "outputs": [],
   "source": []
  }
 ],
 "metadata": {
  "kernelspec": {
   "display_name": "Python 3",
   "language": "python",
   "name": "python3"
  },
  "language_info": {
   "codemirror_mode": {
    "name": "ipython",
    "version": 3
   },
   "file_extension": ".py",
   "mimetype": "text/x-python",
   "name": "python",
   "nbconvert_exporter": "python",
   "pygments_lexer": "ipython3",
   "version": "3.6.1"
  }
 },
 "nbformat": 4,
 "nbformat_minor": 2
}
