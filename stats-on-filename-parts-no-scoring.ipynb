{
 "cells": [
  {
   "cell_type": "markdown",
   "metadata": {},
   "source": [
    "# Setup: read the packages we need"
   ]
  },
  {
   "cell_type": "code",
   "execution_count": 39,
   "metadata": {},
   "outputs": [
    {
     "name": "stdout",
     "output_type": "stream",
     "text": [
      "imported\n"
     ]
    }
   ],
   "source": [
    "import pandas\n",
    "import numpy as np\n",
    "from matplotlib import pyplot as plt\n",
    "from IPython.display import display, HTML\n",
    "pandas.set_option('display.max_colwidth', -1)\n",
    "datadir = '/home/idies/workspace/Storage/raddick/musical_folksonomy/data/firstpass/'\n",
    "intermediate_datadir = datadir + 'intermediate_data/'\n",
    "\n",
    "debug = 1\n",
    "\n",
    "print('imported')"
   ]
  },
  {
   "cell_type": "markdown",
   "metadata": {},
   "source": [
    "# Setup: read parsed filenames into a dataframe"
   ]
  },
  {
   "cell_type": "code",
   "execution_count": 2,
   "metadata": {},
   "outputs": [
    {
     "name": "stdout",
     "output_type": "stream",
     "text": [
      "Read 2,972 rows!\n",
      "Converting empty date format values to nodate for 1,423 rows...\n",
      "Converting dates to datetime...\n",
      "backing up...\n",
      "Done!\n"
     ]
    },
    {
     "data": {
      "text/plain": [
       "Index(['tracker_site', 'filename', 'filetype', 'stem', 'date_string',\n",
       "       'thedate', 'justyear', 'justmonth', 'date_format', 'band_string',\n",
       "       'band_string_right_before_date_string', 'band', 'abbrev_type'],\n",
       "      dtype='object')"
      ]
     },
     "execution_count": 2,
     "metadata": {},
     "output_type": "execute_result"
    }
   ],
   "source": [
    "df = pandas.read_csv(datadir+'filenames_firstpass_complete.csv', encoding='utf-8', index_col='id')\n",
    "print('Read {0:,.0f} rows!'.format(len(df)))\n",
    "print('Converting empty date format values to nodate for {0:,.0f} rows...'.format(len(df[df['date_format'].isnull()])))\n",
    "df.loc[df['date_format'].isnull(), 'date_format'] = 'nodate'\n",
    "print('Converting dates to datetime...')\n",
    "df.loc[:, 'thedate'] = pandas.to_datetime(df['thedate'], errors='coerce')\n",
    "print('backing up...')\n",
    "df_bk = df\n",
    "print('Done!')\n",
    "df.columns"
   ]
  },
  {
   "cell_type": "markdown",
   "metadata": {},
   "source": [
    "# Summary statistics!"
   ]
  },
  {
   "cell_type": "markdown",
   "metadata": {},
   "source": [
    "## What tracker sites do filenames come from?"
   ]
  },
  {
   "cell_type": "code",
   "execution_count": 3,
   "metadata": {},
   "outputs": [
    {
     "data": {
      "text/plain": [
       "tracker_site\n",
       "DimeaDozen      1803\n",
       "Etree           564 \n",
       "TradersDen      330 \n",
       "LosslessLegs    275 \n",
       "dtype: int64"
      ]
     },
     "execution_count": 3,
     "metadata": {},
     "output_type": "execute_result"
    }
   ],
   "source": [
    "df.groupby('tracker_site').size().sort_values(ascending=False)"
   ]
  },
  {
   "cell_type": "markdown",
   "metadata": {},
   "source": [
    "## What file types?"
   ]
  },
  {
   "cell_type": "code",
   "execution_count": 4,
   "metadata": {},
   "outputs": [
    {
     "data": {
      "text/plain": [
       "filetype\n",
       "flac    2799\n",
       "shn     92  \n",
       "mp2     48  \n",
       "mp3     31  \n",
       "wav     1   \n",
       "aud     1   \n",
       "dtype: int64"
      ]
     },
     "execution_count": 4,
     "metadata": {},
     "output_type": "execute_result"
    }
   ],
   "source": [
    "df.groupby('filetype').size().sort_values(ascending=False)"
   ]
  },
  {
   "cell_type": "markdown",
   "metadata": {},
   "source": [
    "## What date formats?"
   ]
  },
  {
   "cell_type": "code",
   "execution_count": 5,
   "metadata": {},
   "outputs": [
    {
     "data": {
      "text/plain": [
       "date_format\n",
       "nodate           1423\n",
       "yyyy-mm-dd       1175\n",
       "yy-mm-dd         131 \n",
       "eightnumbers     97  \n",
       "byhand           63  \n",
       "otherseps        56  \n",
       "justyear         17  \n",
       "justyearmonth    10  \n",
       "dtype: int64"
      ]
     },
     "execution_count": 5,
     "metadata": {},
     "output_type": "execute_result"
    }
   ],
   "source": [
    "df.groupby('date_format').size().sort_values(ascending=False)"
   ]
  },
  {
   "cell_type": "markdown",
   "metadata": {},
   "source": [
    "## For files with known year, what years?"
   ]
  },
  {
   "cell_type": "code",
   "execution_count": 6,
   "metadata": {
    "scrolled": false
   },
   "outputs": [
    {
     "name": "stdout",
     "output_type": "stream",
     "text": [
      "getting from backup...\n",
      "Found 1,548 rows with year given...\n"
     ]
    },
    {
     "data": {
      "image/png": "[encoded data removed]",
      "text/plain": [
       "<Figure size 1152x432 with 1 Axes>"
      ]
     },
     "metadata": {
      "needs_background": "light"
     },
     "output_type": "display_data"
    },
    {
     "data": {
      "text/plain": [
       "theyear\n",
       "2017.0    5  \n",
       "2016.0    895\n",
       "2015.0    45 \n",
       "2014.0    18 \n",
       "2013.0    9  \n",
       "2012.0    12 \n",
       "2011.0    12 \n",
       "2010.0    8  \n",
       "2009.0    16 \n",
       "2008.0    14 \n",
       "2007.0    6  \n",
       "2006.0    7  \n",
       "2005.0    16 \n",
       "2004.0    9  \n",
       "2003.0    10 \n",
       "2002.0    6  \n",
       "2001.0    24 \n",
       "2000.0    7  \n",
       "1999.0    4  \n",
       "1998.0    24 \n",
       "1997.0    10 \n",
       "1996.0    12 \n",
       "1995.0    16 \n",
       "1994.0    19 \n",
       "1993.0    26 \n",
       "1992.0    30 \n",
       "1991.0    12 \n",
       "1990.0    11 \n",
       "1989.0    13 \n",
       "1988.0    8  \n",
       "1987.0    7  \n",
       "1986.0    11 \n",
       "1985.0    7  \n",
       "1984.0    22 \n",
       "1983.0    2  \n",
       "1982.0    11 \n",
       "1981.0    14 \n",
       "1980.0    45 \n",
       "1979.0    5  \n",
       "1978.0    7  \n",
       "1976.0    17 \n",
       "1975.0    12 \n",
       "1974.0    43 \n",
       "1973.0    8  \n",
       "1972.0    9  \n",
       "1971.0    4  \n",
       "1970.0    9  \n",
       "1969.0    5  \n",
       "1968.0    5  \n",
       "1967.0    1  \n",
       "dtype: int64"
      ]
     },
     "execution_count": 6,
     "metadata": {},
     "output_type": "execute_result"
    }
   ],
   "source": [
    "print('getting from backup...')\n",
    "df = df_bk\n",
    "\n",
    "df = df.assign(theyear = pandas.to_numeric(df['thedate'].dropna().apply(lambda x: x.year), errors='coerce'))\n",
    "df.loc[df['justyear'].notnull(), 'theyear'] = df['justyear']\n",
    "\n",
    "print('Found {0:,.0f} rows with year given...'.format(len(df[df['theyear'].notnull()])))\n",
    "\n",
    "fig, ax = plt.subplots(1, 1, figsize=(16,6))\n",
    "\n",
    "#df[df['theyear'] <= 2015]['theyear'].hist(bins=48)\n",
    "df['theyear'].hist(bins=50)\n",
    "plt.xlabel('Year', fontsize=16)\n",
    "plt.ylabel('Number of files', fontsize=16)\n",
    "plt.xticks(np.arange(1967,2018,5))\n",
    "plt.title('Number of files by year', fontsize=20)\n",
    "plt.show()\n",
    "df.groupby('theyear').size().sort_index(ascending=False)"
   ]
  },
  {
   "cell_type": "markdown",
   "metadata": {},
   "source": [
    "## For files with known months, what months?\n",
    "\n",
    "1.0 = January, 2.0 = February, etc."
   ]
  },
  {
   "cell_type": "code",
   "execution_count": 7,
   "metadata": {},
   "outputs": [
    {
     "name": "stdout",
     "output_type": "stream",
     "text": [
      "getting from backup...\n"
     ]
    },
    {
     "data": {
      "text/plain": [
       "themonth\n",
       "1.0     33 \n",
       "2.0     58 \n",
       "3.0     73 \n",
       "4.0     69 \n",
       "5.0     70 \n",
       "6.0     249\n",
       "7.0     664\n",
       "8.0     61 \n",
       "9.0     59 \n",
       "10.0    46 \n",
       "11.0    79 \n",
       "12.0    70 \n",
       "dtype: int64"
      ]
     },
     "execution_count": 7,
     "metadata": {},
     "output_type": "execute_result"
    }
   ],
   "source": [
    "print('getting from backup...')\n",
    "df = df_bk\n",
    "\n",
    "df = df.assign(themonth = pandas.to_numeric(df['thedate'].dropna().apply(lambda x: x.month), errors='coerce'))\n",
    "df.loc[df['justmonth'].notnull(), 'themonth'] = df['justmonth']\n",
    "\n",
    "df.groupby('themonth').size().sort_index()"
   ]
  },
  {
   "cell_type": "markdown",
   "metadata": {},
   "source": [
    "## Does the band string immediately proceed the date string?"
   ]
  },
  {
   "cell_type": "code",
   "execution_count": 8,
   "metadata": {},
   "outputs": [
    {
     "data": {
      "text/plain": [
       "band_string_right_before_date_string\n",
       "True     1009\n",
       "False    1963\n",
       "dtype: int64"
      ]
     },
     "execution_count": 8,
     "metadata": {},
     "output_type": "execute_result"
    }
   ],
   "source": [
    "df.groupby('band_string_right_before_date_string').size().sort_values()"
   ]
  },
  {
   "cell_type": "markdown",
   "metadata": {},
   "source": [
    "## What are the band abbreviation types?"
   ]
  },
  {
   "cell_type": "code",
   "execution_count": 11,
   "metadata": {},
   "outputs": [
    {
     "data": {
      "text/plain": [
       "abbrev_type\n",
       "canonical              351 \n",
       "variant etree          20  \n",
       "variant archive.org    97  \n",
       "incorrect              87  \n",
       "notfound               1392\n",
       "composer               11  \n",
       "likelysong             259 \n",
       "unknown                77  \n",
       "notband                238 \n",
       "blank                  440 \n",
       "dtype: int64"
      ]
     },
     "execution_count": 11,
     "metadata": {},
     "output_type": "execute_result"
    }
   ],
   "source": [
    "showorder = ['canonical', 'variant etree', 'variant archive.org', 'incorrect']\n",
    "showorder += ['notfound', 'composer', 'likelysong', 'unknown', 'notband', 'blank']\n",
    "df.groupby('abbrev_type').size().reindex(showorder)"
   ]
  },
  {
   "cell_type": "markdown",
   "metadata": {},
   "source": [
    "### Show a sample filename from each abbreviation type"
   ]
  },
  {
   "cell_type": "code",
   "execution_count": 52,
   "metadata": {},
   "outputs": [
    {
     "data": {
      "text/html": [
       "<h4>Count and sample filename for each abbreviation type</h4><table><tr><th>Abbrevation type</th><th>File count</th><th>Sample filename</th></tr><tr><td>canonical</td><td>351</td><td>gd74-10-16d1t01.flac</td></tr><tr><td>variant etree</td><td>20</td><td>jg1974-12-07.gs.aud.castelli.menke.motb.d1t01.flac</td></tr><tr><td>variant archive.org</td><td>97</td><td>MMW2016-07-22Red RocksTelefunken M6001.flac</td></tr><tr><td>incorrect</td><td>87</td><td>jackie2016-07-22d01t09.flac</td></tr><tr><td>notfound</td><td>1,392</td><td>010 House of Clocks.flac</td></tr><tr><td>composer</td><td>11</td><td>01 John Cage - Five.flac</td></tr><tr><td>likelysong</td><td>259</td><td>10-Sunday Bloody Sunday.flac</td></tr><tr><td>unknown</td><td>77</td><td>jason2016-07-23d01t14.flac</td></tr><tr><td>notband</td><td>238</td><td>101 Opening S.E..flac</td></tr><tr><td>blank</td><td>440</td><td>d1t01.flac</td></tr></table>"
      ],
      "text/plain": [
       "<IPython.core.display.HTML object>"
      ]
     },
     "metadata": {},
     "output_type": "display_data"
    }
   ],
   "source": [
    "#df.groupby('abbrev_type')['filename'].apply(lambda s: s.sample(1))\n",
    "\n",
    "#df['abbrev_type'].drop_duplicates().values.tolist()   # VALUES\n",
    "htmlstring = ''\n",
    "htmlstring += '<h4>Count and sample filename for each abbreviation type</h4>'\n",
    "htmlstring += '<table>'\n",
    "htmlstring += '<tr><th>Abbrevation type</th><th>File count</th><th>Sample filename</th></tr>'\n",
    "\n",
    "showorder = ['canonical', 'variant etree', 'variant archive.org', 'incorrect']\n",
    "showorder += ['notfound', 'composer', 'likelysong', 'unknown', 'notband', 'blank']\n",
    "\n",
    "for thistype in showorder:\n",
    "    htmlstring += '<tr>'\n",
    "    htmlstring += '<td>{:}</td>'.format(thistype)\n",
    "    htmlstring += '<td>{:,.0f}</td>'.format(len(df[df['abbrev_type'] == thistype]))\n",
    "    htmlstring += '<td>{:}</td>'.format(df['filename'][df['abbrev_type'] == thistype].sample(1).values[0])\n",
    "    htmlstring += '</tr>'\n",
    "\n",
    "htmlstring += '</table>'\n",
    "    #print(df['filename'][df['abbrev_type'] == thistype].sample(1).values[0])\n",
    "    \n",
    "display(HTML(htmlstring))\n",
    "\n"
   ]
  },
  {
   "cell_type": "markdown",
   "metadata": {},
   "source": [
    "## Which bands are represented?"
   ]
  },
  {
   "cell_type": "code",
   "execution_count": 55,
   "metadata": {},
   "outputs": [
    {
     "data": {
      "text/plain": [
       "band\n",
       "Grateful Dead                   136\n",
       "Phish                           120\n",
       "unknown                         77 \n",
       "Widespread Panic                56 \n",
       "Dead & Company                  47 \n",
       "Bob Dylan                       25 \n",
       "Jerry Garcia & Merl Saunders    25 \n",
       "Neil Young                      19 \n",
       "Pearl Jam                       17 \n",
       "Dean Monkey & The Dropouts      15 \n",
       "Tedeschi Trucks Band            15 \n",
       "Los Lobos                       15 \n",
       "Jerry Garcia                    13 \n",
       "The Jam                         13 \n",
       "Chris Robinson Brotherhood      11 \n",
       "U2                              11 \n",
       "Jefferson Starship              11 \n",
       "Greensky Bluegrass              11 \n",
       "Dave Matthews Band              9  \n",
       "Unknown Artist                  9  \n",
       "Radiohead                       9  \n",
       "Larry Carlton                   8  \n",
       "Jerry Garcia Band               8  \n",
       "Wilco                           8  \n",
       "North Mississippi Allstars      7  \n",
       "The Who                         7  \n",
       "Dread Clampitt                  7  \n",
       "Steve Marriott                  7  \n",
       "Mavis Staples                   7  \n",
       "Beck's Bolero                   6  \n",
       "                               ..  \n",
       "New Perspectives                1  \n",
       "New Order                       1  \n",
       "P.D.P.                          1  \n",
       "Panic! at the Disco             1  \n",
       "Prometheus                      1  \n",
       "Passenger                       1  \n",
       "Profetas                        1  \n",
       "Professor                       1  \n",
       "Private Hell                    1  \n",
       "Prime Circle                    1  \n",
       "Praise the Fallen               1  \n",
       "Powder For Pigeons              1  \n",
       "Pow Wow                         1  \n",
       "Possession                      1  \n",
       "Poliça                          1  \n",
       "Poisoned Seed                   1  \n",
       "Plaine des sables               1  \n",
       "Pianotrio                       1  \n",
       "Phosphorescent                  1  \n",
       "Philharmonia Orchestra          1  \n",
       "Peter, Bjorn & John             1  \n",
       "Peter Gabriel                   1  \n",
       "Peter Astor                     1  \n",
       "Peter & the Test Tube Babies    1  \n",
       "Perpetual Groove                1  \n",
       "Perforator                      1  \n",
       "Perfect Parts                   1  \n",
       "Paul Simon                      1  \n",
       "Pat Metheny                     1  \n",
       "10CC                            1  \n",
       "Length: 990, dtype: int64"
      ]
     },
     "execution_count": 55,
     "metadata": {},
     "output_type": "execute_result"
    }
   ],
   "source": [
    "df[df['band'] != 'notband'].groupby('band').size().sort_values(ascending=False)"
   ]
  },
  {
   "cell_type": "code",
   "execution_count": null,
   "metadata": {},
   "outputs": [],
   "source": []
  }
 ],
 "metadata": {
  "kernelspec": {
   "display_name": "Python 3",
   "language": "python",
   "name": "python3"
  },
  "language_info": {
   "codemirror_mode": {
    "name": "ipython",
    "version": 3
   },
   "file_extension": ".py",
   "mimetype": "text/x-python",
   "name": "python",
   "nbconvert_exporter": "python",
   "pygments_lexer": "ipython3",
   "version": "3.6.6"
  }
 },
 "nbformat": 4,
 "nbformat_minor": 2
}
