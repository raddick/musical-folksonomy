{
 "cells": [
  {
   "cell_type": "code",
   "execution_count": null,
   "metadata": {},
   "outputs": [],
   "source": [
    "import numpy as np\n",
    "import pandas\n",
    "import urllib\n",
    "from bs4 import BeautifulSoup as bs\n",
    "import os\n",
    "import re\n",
    "from datetime import datetime\n",
    "import time\n",
    "\n",
    "os.chdir('/home/idies/workspace/Storage/raddick/raddick_folksonomy/data/secondpass')\n",
    "print('ok')"
   ]
  },
  {
   "cell_type": "markdown",
   "metadata": {},
   "source": [
    "# Load data file"
   ]
  },
  {
   "cell_type": "code",
   "execution_count": null,
   "metadata": {},
   "outputs": [],
   "source": [
    "# Read raw data\n",
    "inmusic_df = pandas.read_csv('cleaned_audio_data.csv')\n",
    "# Use music_df for processing; move rows to output when scored\n",
    "music_df = inmusic_df\n",
    "\n",
    "# IDs are unique, we can use them as pandices IWW - but now let's use rownumber #music_df.groupby('ID').size().sort_values(ascending=False)\n",
    "print('Datafile read: {0:,.0f} rows.'.format(len(inmusic_df)))\n",
    "\n",
    "# rename columns\n",
    "music_df.index.name = 'rownumber'\n",
    "music_df = music_df.rename(columns={'ID': 'id', 'Source': 'source', 'Sample File Name': 'filename'})\n",
    "print('Columns renamed')\n",
    "\n",
    "music_df = music_df.assign(filetype = music_df['filename'].apply(lambda x: x.split('.')[-1].strip()))\n",
    "music_df = music_df.assign(stem = music_df['filename'].apply(lambda x: x[0:x.rfind('.')]))\n",
    "\n",
    "print('backing up...')\n",
    "music_df_bk = music_df\n",
    "\n",
    "print('ok')\n",
    "#music_df"
   ]
  },
  {
   "cell_type": "markdown",
   "metadata": {},
   "source": [
    "# Make columns and fix a few values by hand"
   ]
  },
  {
   "cell_type": "code",
   "execution_count": null,
   "metadata": {},
   "outputs": [],
   "source": [
    "print('reading from backup...')\n",
    "music_df = music_df_bk\n",
    "\n",
    "music_df = music_df.assign(date_format = 'otros')\n",
    "music_df = music_df.assign(date_string = np.nan)\n",
    "music_df = music_df.assign(thedate = pandas.to_datetime(np.nan))\n",
    "\n",
    "music_df = music_df.assign(theyear = np.nan)\n",
    "music_df = music_df.assign(themonth = np.nan)\n",
    "music_df = music_df.assign(theday = np.nan)\n",
    "\n",
    "music_df.loc[music_df['stem'] == '101-Dyin\\' to Know -Joanne Shaw Taylor-The Sage Gateshead 2017-0-11-07', \n",
    "            ['date_string', 'thedate', 'date_format']] = ['2017-0-11-07', pandas.to_datetime('2017-11-07'), 'byhand']\n",
    "music_df.loc[music_df['stem'] == 'john2017-0-21d01t01', \n",
    "            ['date_string', 'theyear', 'date_format']] = ['2017-0-21', 2017, 'byhand']\n",
    "music_df.loc[music_df['stem'] == 'Osvaldo Golijov Azul (2006) -cck BA 2017-0-07-01', \n",
    "            ['date_string', 'thedate', 'date_format']] = ['2017-0-07-01', pandas.to_datetime('2017-07-01'), 'byhand']\n",
    "music_df.loc[music_df['stem'] == 'gd68-00-00MidnightHour', ['date_string', 'theyear', 'date_format']] = ['68-00-00', 1968, 'byhand']\n",
    "music_df.loc[music_df['stem'] == 'gd66-11-00.FM.interview', ['date_string', 'theyear', 'themonth', 'date_format']] = ['66-11-00', 1968, 11, 'byhand']\n",
    "music_df.loc[music_df['stem'] == 'hartford1986-10-0xCulpepperT01', ['date_string', 'theyear', 'themonth', 'date_format']] = ['1986-10-0x', 1986, 10, 'byhand']\n",
    "\n",
    "music_df['stem'].loc[11925]\n",
    "print('backing up...')\n",
    "music_df_bk = music_df\n",
    "\n",
    "music_df.groupby('date_format').size()\n",
    "\n",
    "#music_df[music_df['date_format'] == 'byhand']\n",
    "#print('ok')"
   ]
  },
  {
   "cell_type": "markdown",
   "metadata": {},
   "source": [
    "# Find filenames with proper yyyy-mm-dd date format"
   ]
  },
  {
   "cell_type": "code",
   "execution_count": null,
   "metadata": {},
   "outputs": [],
   "source": [
    "print('reading from backup...')\n",
    "music_df = music_df_bk\n",
    "\n",
    "yyyymmddfinder = re.compile('(19|20)[\\d]{2}\\-[\\d]{2}\\-[\\d]{2}')\n",
    "\n",
    "music_df.loc[\n",
    "    (music_df['date_format'] == 'otros')\n",
    "    & (music_df['stem'].apply(lambda x: re.search(yyyymmddfinder,x) != None))\n",
    ", 'date_format'] = 'yyyy-mm-dd'\n",
    "\n",
    "music_df.loc[\n",
    "    (music_df['date_format'] == 'yyyy-mm-dd')\n",
    ", 'date_string'] = music_df['stem'][(music_df['date_format'] == 'yyyy-mm-dd')\n",
    "                                   ].apply(lambda x: \n",
    "                                           x[re.search(yyyymmddfinder,x).start():re.search(yyyymmddfinder,x).end()]\n",
    "                                          )\n",
    "music_df.loc[(music_df['date_format'] == 'yyyy-mm-dd'), 'thedate'] = pandas.to_datetime(music_df['date_string'], errors='coerce')\n",
    "\n",
    "print('backing up...')\n",
    "music_df_bk = music_df\n",
    "\n",
    "music_df.groupby('date_format').size()\n",
    "\n",
    "#len(music_df['thedate'].dropna())"
   ]
  },
  {
   "cell_type": "code",
   "execution_count": null,
   "metadata": {},
   "outputs": [],
   "source": [
    "music_df[['stem', 'date_string', 'thedate']][music_df['date_format'] != 'otros'].sample(10)"
   ]
  },
  {
   "cell_type": "markdown",
   "metadata": {},
   "source": [
    "# Find filenames with date format <code>[\\d]{1,4}\\-[\\d]{1,2}\\-[\\d]{1,4}</code>"
   ]
  },
  {
   "cell_type": "code",
   "execution_count": null,
   "metadata": {},
   "outputs": [],
   "source": [
    "print('reading from backup...')\n",
    "music_df = music_df_bk\n",
    "\n",
    "dashfinder = re.compile('[\\d]{1,4}\\-[\\d]{1,2}\\-[\\d]{1,4}')\n",
    "\n",
    "music_df.loc[\n",
    "    (music_df['date_format'] == 'otros') & (music_df['stem'].apply(lambda x: re.search(dashfinder,x) != None))\n",
    ", 'date_format'] = 'dashfinder'\n",
    "\n",
    "music_df.loc[\n",
    "    (music_df['date_format'] == 'dashfinder')\n",
    ", 'date_string'] = music_df['stem'][(music_df['date_format'] == 'dashfinder')\n",
    "                                   ].apply(lambda x: \n",
    "                                           x[re.search(dashfinder,x).start():re.search(dashfinder,x).end()]\n",
    "                                          )\n",
    "\n",
    "print('parsing dates...')\n",
    "\n",
    "#music_df.loc[\n",
    "#    (music_df['date_format'] == 'dashfinder')\n",
    "#, ['thedate', 'date_format_2']] = parse_dates(music_df['date_string'][music_df['date_format'] == 'dashfinder'])\n",
    "\n",
    "print('backing up...')\n",
    "music_df_bk = music_df\n",
    "\n",
    "print(music_df.groupby('date_format').size())\n",
    "\n",
    "#music_df[['date_string','thedate']][music_df['date_format'] == 'dashfinder']\n",
    "\n",
    "#music_df.loc[2298]"
   ]
  },
  {
   "cell_type": "markdown",
   "metadata": {},
   "source": [
    "## Parse acutal dates from those filenames"
   ]
  },
  {
   "cell_type": "code",
   "execution_count": null,
   "metadata": {},
   "outputs": [],
   "source": [
    "print('retrieving from backup...')\n",
    "music_df = music_df_bk\n",
    "\n",
    "dateredict = {}\n",
    "dateredict['xx-xx-xxxx'] = re.compile('[\\d]{2}\\-[\\d]{2}\\-[\\d]{4}')\n",
    "dateredict['x-xx-xxxx'] = re.compile('[\\d]{1}\\-[\\d]{2}\\-[\\d]{4}')\n",
    "dateredict['xx-x-xxxx'] = re.compile('[\\d]{2}\\-[\\d]{1}\\-[\\d]{4}')\n",
    "dateredict['x-x-xxxx'] = re.compile('[\\d]{1}\\-[\\d]{1}\\-[\\d]{4}')\n",
    "\n",
    "dateredict['xxxx-xx-xx'] = re.compile('[\\d]{4}\\-[\\d]{2}\\-[\\d]{2}')\n",
    "dateredict['xxxx-x-xx'] = re.compile('[\\d]{4}\\-[\\d]{1}\\-[\\d]{2}')\n",
    "dateredict['xxxx-xx-x'] = re.compile('[\\d]{4}\\-[\\d]{2}\\-[\\d]{1}')\n",
    "dateredict['xxxx-x-x'] = re.compile('[\\d]{4}\\-[\\d]{1}\\-[\\d]{1}')\n",
    "\n",
    "dateredict['xx-xx-xx'] = re.compile('[\\d]{2}\\-[\\d]{2}\\-[\\d]{2}')\n",
    "dateredict['x-xx-xx'] = re.compile('[\\d]{1}\\-[\\d]{2}\\-[\\d]{2}')\n",
    "dateredict['xx-x-xx'] = re.compile('[\\d]{2}\\-[\\d]{1}\\-[\\d]{2}')\n",
    "dateredict['x-x-xx'] = re.compile('[\\d]{1}\\-[\\d]{1}\\-[\\d]{2}')\n",
    "\n",
    "dateredict['xx-x-xx'] = re.compile('[\\d]{2}\\-[\\d]{1}\\-[\\d]{2}')\n",
    "dateredict['xx-xx-x'] = re.compile('[\\d]{2}\\-[\\d]{2}\\-[\\d]{1}')\n",
    "dateredict['xx-x-x'] = re.compile('[\\d]{2}\\-[\\d]{1}\\-[\\d]{1}')\n",
    "\n",
    "\n",
    "\n",
    "dates_df = pandas.DataFrame()\n",
    "dates_df = dates_df.assign(date_string = music_df['date_string'][music_df['date_format'] == 'dashfinder'])\n",
    "dates_df = dates_df.assign(date_format_2 = np.nan)\n",
    "\n",
    "for nameofthisre, thisre in dateredict.items():\n",
    "    dates_df.loc[(dates_df['date_format_2'].isnull()) & (dates_df['date_string'].apply(lambda x: re.search(thisre, x) != None)), 'date_format_2'] = nameofthisre\n",
    "\n",
    "dates_df = dates_df.assign(date_string = music_df['date_string'][music_df['date_format'] == 'dashfinder'])\n",
    "dates_df = dates_df.assign(part1 = dates_df['date_string'].apply(lambda x: x.split('-')[0]))\n",
    "dates_df = dates_df.assign(part2 = dates_df['date_string'].apply(lambda x: x.split('-')[1]))\n",
    "dates_df = dates_df.assign(part3 = dates_df['date_string'].apply(lambda x: x.split('-')[2]))\n",
    "dates_df['part1'] = dates_df['part1'].apply(lambda x: int(x))\n",
    "dates_df['part2'] = dates_df['part2'].apply(lambda x: int(x))\n",
    "dates_df['part3'] = dates_df['part3'].apply(lambda x: int(x))    \n",
    "dates_df = dates_df.assign(year = np.nan)\n",
    "dates_df = dates_df.assign(month = np.nan)\n",
    "dates_df = dates_df.assign(day = np.nan)\n",
    "dates_df = dates_df.assign(extra = np.nan)\n",
    "\n",
    "# Do some of the rare ones by hand to save time    \n",
    "dates_df.loc[dates_df['date_string'] == '97-3-8', ['year', 'month', 'day', 'date_format_2']] = [1997, 3, 8, 'yy-m-d']\n",
    "dates_df.loc[dates_df['date_string'] == '11-5-1701', ['year', 'month', 'day', 'extra', 'date_format_2']] = [2017, 11, 5, '01', 'mm-d-yyee']\n",
    "dates_df.loc[dates_df['date_string'] == '11-9-2017', ['year', 'month', 'day', 'date_format_2']] = [2017, 11, 9, 'mm-d-yyyy']\n",
    "dates_df.loc[dates_df['date_string'] == '93-11-1', ['year', 'month', 'day', 'date_format_2']] = [1993, 11, 1, 'yy-mm-d']\n",
    "dates_df.loc[dates_df['date_string'] == '02-05-9', ['year', 'month', 'day', 'date_format_2']] = [2002, 5, 9, 'yy-mm-d']\n",
    "dates_df.loc[dates_df['date_string'] == '2005-4-4', ['year', 'month', 'day', 'date_format_2']] = [2005, 4, 4, 'yyyy-m-d']\n",
    "dates_df.loc[dates_df['date_string'] == '1984-9-3', ['year', 'month', 'day', 'date_format_2']] = [1984, 9, 3, 'yyyy-m-d']\n",
    "dates_df.loc[dates_df['date_string'] == '6-11-0401', ['year', 'month', 'day', 'extra', 'date_format_2']] = [2004, 6, 11, '01', 'm-d-yyee']\n",
    "dates_df.loc[dates_df['date_string'] == '2-08-2014', ['year', 'month', 'day', 'date_format_2']] = [2014, 2, 8, 'm-dd-yyyy']\n",
    "dates_df.loc[dates_df['date_string'] == '9-12-2007', ['year', 'month', 'day', 'date_format_2']] = [2007, 9, 12, 'm-dd-yyyy']\n",
    "dates_df.loc[dates_df['date_string'] == '71-4-22', ['year', 'month', 'day', 'date_format_2']] = [1971, 4, 22, 'yy-m-dd']\n",
    "dates_df.loc[dates_df['date_string'] == '11-2-17', ['year', 'month', 'day', 'date_format_2']] = [2017, 11, 2, 'mm-d-yy']\n",
    "dates_df.loc[dates_df['date_string'] == '11-3-17', ['year', 'month', 'day', 'date_format_2']] = [2017, 11, 3, 'mm-d-yy']\n",
    "dates_df.loc[dates_df['date_string'] == '5-3-7303', ['year', 'month', 'day', 'extra', 'date_format_2']] = [1973, 5, 3, '03', 'm-d-yyee']\n",
    "dates_df.loc[dates_df['date_string'] == '8-9-1701', ['year', 'month', 'day', 'extra', 'date_format_2']] = [2017, 8, 9, '01', 'm-d-yyee']\n",
    "dates_df.loc[dates_df['date_string'] == '9-9-2017', ['year', 'month', 'day', 'date_format_2']] = [2017, 9, 9, 'm-d-yyyy']\n",
    "dates_df.loc[dates_df['date_string'] == '9-7-2017', ['year', 'month', 'day', 'date_format_2']] = [2017, 9, 7, 'm-d-yyyy']\n",
    "\n",
    "\n",
    "dates_df.loc[dates_df['date_format_2'] == 'xxxx-xx-x', ['year', 'month', 'day', 'date_format_2']] = [dates_df['part1'][dates_df['date_format_2'] == 'xxxx-xx-x'], dates_df['part2'][dates_df['date_format_2'] == 'xxxx-xx-x'], dates_df['part3'][dates_df['date_format_2'] == 'xxxx-xx-x'], 'yyyy-mm-d']\n",
    "dates_df.loc[(dates_df['date_format_2'] == 'xxxx-xx-xx') & dates_df['part1'].apply(lambda x: x % 100 > 18), ['year', 'month', 'day', 'extra', 'date_format_2']] = [dates_df['part1'][(dates_df['date_format_2'] == 'xxxx-xx-xx') & dates_df['part1'].apply(lambda x: x % 100 > 18)].apply(lambda x: (x % 100) + 1900), dates_df['part2'][(dates_df['date_format_2'] == 'xxxx-xx-xx') & dates_df['part1'].apply(lambda x: x % 100 > 18)], dates_df['part3'][(dates_df['date_format_2'] == 'xxxx-xx-xx') & dates_df['part1'].apply(lambda x: x % 100 > 18)], dates_df['part1'][(dates_df['date_format_2'] == 'xxxx-xx-xx') & dates_df['part1'].apply(lambda x: x % 100 > 18)].apply(lambda x: str(x)[0:2]), 'eeyy-mm-dd']\n",
    "dates_df.loc[(dates_df['date_format_2'] == 'xxxx-xx-xx') & dates_df['part1'].apply(lambda x: x % 100 <= 18), ['year', 'month', 'day', 'extra', 'date_format_2']] = [dates_df['part1'][(dates_df['date_format_2'] == 'xxxx-xx-xx') & (dates_df['part1'].apply(lambda x: x % 100 <= 18))].apply(lambda x: (x % 100) + 2000), dates_df['part2'][(dates_df['date_format_2'] == 'xxxx-xx-xx') & (dates_df['part1'].apply(lambda x: x % 100 <= 18))], dates_df['part3'][(dates_df['date_format_2'] == 'xxxx-xx-xx') & (dates_df['part1'].apply(lambda x: x % 100 <= 18))], dates_df['part1'][(dates_df['date_format_2'] == 'xxxx-xx-xx') & (dates_df['part1'].apply(lambda x: x % 100 <= 18))].apply(lambda x: str(x)[0:2]), 'eeyy-mm-dd']\n",
    "dates_df.loc[(dates_df['date_format_2'] == 'x-x-xx') & (dates_df['part3'] > 18), ['year', 'month', 'day', 'date_format_2']] = [dates_df['part3'][(dates_df['date_format_2'] == 'x-x-xx') & (dates_df['part3'] > 18)].apply(lambda x: x + 1900), dates_df['part1'][(dates_df['date_format_2'] == 'x-x-xx') & (dates_df['part3'] > 18)], dates_df['part2'][(dates_df['date_format_2'] == 'x-x-xx') & (dates_df['part3'] > 18)], 'm-d-yy']\n",
    "dates_df.loc[(dates_df['date_format_2'] == 'x-x-xx') & (dates_df['part3'] <= 18), ['year', 'month', 'day', 'date_format_2']] = [dates_df['part3'][(dates_df['date_format_2'] == 'x-x-xx') & (dates_df['part3'] <= 18)].apply(lambda x: x + 2000), dates_df['part1'][(dates_df['date_format_2'] == 'x-x-xx') & (dates_df['part3'] <= 18)], dates_df['part2'][(dates_df['date_format_2'] == 'x-x-xx') & (dates_df['part3'] <= 18)], 'm-d-yy']\n",
    "\n",
    "dates_df.loc[(dates_df['date_format_2'] == 'xxxx-x-xx'), ['year', 'month', 'day', 'date_format_2']] = [dates_df['part1'][(dates_df['date_format_2'] == 'xxxx-x-xx')], dates_df['part2'][(dates_df['date_format_2'] == 'xxxx-x-xx')], dates_df['part3'][(dates_df['date_format_2'] == 'xxxx-x-xx')], 'yyyy-m-dd']\n",
    "\n",
    "dates_df.loc[(dates_df['date_format_2'] == 'xx-xx-xxxx') & (dates_df['part3'] < 1900), ['year', 'month', 'day', 'extra', 'date_format_2']] = [dates_df['part3'][(dates_df['date_format_2'] == 'xx-xx-xxxx') & (dates_df['part3'] < 1900)].apply(lambda x: int(np.floor(x / 100)) + 2000), dates_df['part1'][(dates_df['date_format_2'] == 'xx-xx-xxxx') & (dates_df['part3'] < 1900)], dates_df['part2'][(dates_df['date_format_2'] == 'xx-xx-xxxx') & (dates_df['part3'] < 1900)], dates_df['part3'][(dates_df['date_format_2'] == 'xx-xx-xxxx') & (dates_df['part3'] < 1900)].apply(lambda x: '{:02}'.format(x % 100)), 'mm-dd-yyee']\n",
    "dates_df.loc[(dates_df['date_format_2'] == 'xx-xx-xxxx') & (dates_df['part3'] > 2018), ['year', 'month', 'day', 'extra', 'date_format_2']] = [dates_df['part3'][(dates_df['date_format_2'] == 'xx-xx-xxxx') & (dates_df['part3'] > 2018)].apply(lambda x: int(np.floor(x/100)) + 1900), dates_df['part1'][(dates_df['date_format_2'] == 'xx-xx-xxxx') & (dates_df['part3'] > 2018)], dates_df['part2'][(dates_df['date_format_2'] == 'xx-xx-xxxx') & (dates_df['part3'] > 2018)], dates_df['part3'][(dates_df['date_format_2'] == 'xx-xx-xxxx') & (dates_df['part3'] > 2018)].apply(lambda x: '{:02}'.format(x % 100)), 'mm-dd-yyee']\n",
    "dates_df.loc[(dates_df['date_format_2'] == 'xx-xx-xxxx') & (dates_df['part1'] > 12), ['year', 'month', 'day', 'date_format_2']] = [dates_df['part3'][(dates_df['date_format_2'] == 'xx-xx-xxxx') & (dates_df['part1'] > 12)], dates_df['part2'][(dates_df['date_format_2'] == 'xx-xx-xxxx') & (dates_df['part1'] > 12)], dates_df['part1'][(dates_df['date_format_2'] == 'xx-xx-xxxx') & (dates_df['part1'] > 12)], 'dd-mm-yyyy']\n",
    "dates_df.loc[dates_df['date_format_2'] == 'xx-xx-xxxx', ['year', 'month', 'day', 'date_format_2']] = [dates_df['part3'][dates_df['date_format_2'] == 'xx-xx-xxxx'], dates_df['part1'][dates_df['date_format_2'] == 'xx-xx-xxxx'], dates_df['part2'][dates_df['date_format_2'] == 'xx-xx-xxxx'], 'mm-dd-yyyy']\n",
    "\n",
    "dates_df.loc[(dates_df['date_format_2'] == 'x-xx-xx') & (dates_df['part3'] > 18), ['year', 'month', 'day', 'date_format_2']] = [dates_df['part3'][(dates_df['date_format_2'] == 'x-xx-xx') & (dates_df['part3'] > 18)].apply(lambda x: x + 1900), dates_df['part1'][(dates_df['date_format_2'] == 'x-xx-xx') & (dates_df['part3'] > 18)], dates_df['part2'][(dates_df['date_format_2'] == 'x-xx-xx') & (dates_df['part3'] > 18)], 'm-dd-yy']\n",
    "dates_df.loc[(dates_df['date_format_2'] == 'x-xx-xx') & (dates_df['part3'] <= 18), ['year', 'month', 'day', 'date_format_2']] = [dates_df['part3'][(dates_df['date_format_2'] == 'x-xx-xx') & (dates_df['part3'] <= 18)].apply(lambda x: x + 2000), dates_df['part1'][(dates_df['date_format_2'] == 'x-xx-xx') & (dates_df['part3'] <= 18)], dates_df['part2'][(dates_df['date_format_2'] == 'x-xx-xx') & (dates_df['part3'] <= 18)], 'm-dd-yy']\n",
    "\n",
    "dates_df.loc[(dates_df['date_format_2'] == 'xx-xx-xx') & (dates_df['part1'] > 31), ['year', 'month', 'day', 'date_format_2']] = [dates_df['part1'][(dates_df['date_format_2'] == 'xx-xx-xx') & (dates_df['part1'] > 31)].apply(lambda x: x + 1900), dates_df['part2'][(dates_df['date_format_2'] == 'xx-xx-xx') & (dates_df['part1'] > 31)], dates_df['part3'][(dates_df['date_format_2'] == 'xx-xx-xx') & (dates_df['part1'] > 31)], 'yy-mm-dd']\n",
    "dates_df.loc[(dates_df['date_format_2'] == 'xx-xx-xx') & (dates_df['part3'] > 31),  ['year', 'month', 'day', 'date_format_2']] = [dates_df['part3'][(dates_df['date_format_2'] == 'xx-xx-xx') & (dates_df['part3'] > 31)].apply(lambda x: x + 1900), dates_df['part1'][(dates_df['date_format_2'] == 'xx-xx-xx') & (dates_df['part3'] > 31)], dates_df['part2'][(dates_df['date_format_2'] == 'xx-xx-xx') & (dates_df['part3'] > 31)], 'mm-dd-yy']\n",
    "dates_df.loc[(dates_df['date_format_2'] == 'xx-xx-xx') & (dates_df['part1'] > 18), ['year', 'month', 'day', 'date_format_2']] = [dates_df['part3'][(dates_df['date_format_2'] == 'xx-xx-xx') & (dates_df['part1'] > 18)].apply(lambda x: x + 2000), dates_df['part2'][(dates_df['date_format_2'] == 'xx-xx-xx') & (dates_df['part1'] > 18)], dates_df['part1'][(dates_df['date_format_2'] == 'xx-xx-xx') & (dates_df['part1'] > 18)], 'dd-mm-yy']\n",
    "dates_df.loc[(dates_df['date_format_2'] == 'xx-xx-xx') & (dates_df['part3'] > 18), ['year', 'month', 'day', 'date_format_2']] = [dates_df['part1'][(dates_df['date_format_2'] == 'xx-xx-xx') & (dates_df['part3'] > 18)].apply(lambda x: x + 2000), dates_df['part2'][(dates_df['date_format_2'] == 'xx-xx-xx') & (dates_df['part3'] > 18)], dates_df['part3'][(dates_df['date_format_2'] == 'xx-xx-xx') & (dates_df['part3'] > 18)], 'yy-mm-dd']\n",
    "dates_df.loc[(dates_df['date_format_2'] == 'xx-xx-xx') & (dates_df['part2'] > 12), ['year', 'month', 'day', 'date_format_2']] = [dates_df['part3'][(dates_df['date_format_2'] == 'xx-xx-xx') & (dates_df['part2'] > 12)].apply(lambda x: x + 2000), dates_df['part1'][(dates_df['date_format_2'] == 'xx-xx-xx') & (dates_df['part2'] > 12)], dates_df['part2'][(dates_df['date_format_2'] == 'xx-xx-xx') & (dates_df['part2'] > 12)], 'mm-dd-yy']\n",
    "dates_df.loc[(dates_df['date_format_2'] == 'xx-xx-xx'), ['year', 'month', 'day', 'date_format_2']] = [dates_df['part1'][(dates_df['date_format_2'] == 'xx-xx-xx')].apply(lambda x: x + 2000), dates_df['part2'][(dates_df['date_format_2'] == 'xx-xx-xx')], dates_df['part3'][(dates_df['date_format_2'] == 'xx-xx-xx')], 'yy-mm-dd']\n",
    "\n",
    "#print(dates_df.groupby('date_format_2').size().sort_values(ascending=False))\n",
    "\n",
    "dates_df = dates_df.assign(thedate=pandas.to_datetime(dates_df[['year', 'month', 'day']], errors='coerce'))\n",
    "\n",
    "music_df.loc[dates_df.index, 'thedate'] = dates_df['thedate']\n",
    "music_df.loc[dates_df.index, 'date_format'] = dates_df['date_format_2']\n",
    "\n",
    "print('backing up...')\n",
    "music_df_bk = music_df\n",
    "#music_df[['date_string', 'thedate', 'date_format']].dropna().sample(20)\n",
    "music_df.groupby('date_format').size()\n"
   ]
  },
  {
   "cell_type": "markdown",
   "metadata": {},
   "source": [
    "## Get year/month/day individual values from full dates"
   ]
  },
  {
   "cell_type": "code",
   "execution_count": null,
   "metadata": {},
   "outputs": [],
   "source": [
    "print('retrieving from backup...')\n",
    "music_df = music_df_bk\n",
    "\n",
    "\n",
    "music_df.loc[(music_df['thedate'].notnull()), 'theyear'] = music_df['thedate'][(music_df['thedate'].notnull())].apply(lambda x: x.year)\n",
    "music_df.loc[(music_df['thedate'].notnull()), 'themonth'] = music_df['thedate'][(music_df['thedate'].notnull())].apply(lambda x: x.month)\n",
    "music_df.loc[(music_df['thedate'].notnull()), 'theday'] = music_df['thedate'][(music_df['thedate'].notnull())].apply(lambda x: x.day)\n",
    "\n",
    "print('backing up...')\n",
    "music_df_bk = music_df\n",
    "\n",
    "music_df.sample(10)"
   ]
  },
  {
   "cell_type": "code",
   "execution_count": null,
   "metadata": {},
   "outputs": [],
   "source": [
    "print('retrieving from backup...')\n",
    "music_df = music_df_bk\n",
    "\n",
    "redict = {}\n",
    "redict['longmonthname_day_year'] = re.compile('([j|J]anuary|[f|F]ebruary|[m|M]arch|[a|A]pril|[m|M]ay|[j|J]une|[j|J]uly|[a|A]ugust|[s|S]eptember|[o|O]ctober|[n|N]ovember|[d|D]ecember)[,\\.\\-\\s]*[\\d]+[st|nd|rd|th]*[,\\.\\-\\s]*[\\d]{4}')\n",
    "\n",
    "for nameofthisre, thisre in redict.items():\n",
    "    print(nameofthisre)\n",
    "    #print(music_df['stem'][(music_df['date_format'] == 'otros')])\n",
    "    music_df.loc[(music_df['date_format'] == 'otros') & (music_df['stem'].apply(lambda x: re.search(thisre, x) != None))\n",
    "                 , 'date_string'] = music_df['stem'][\n",
    "        (music_df['date_format'] == 'otros') \n",
    "        & (music_df['stem'].apply(lambda x: re.search(thisre, x) != None))\n",
    "        ].apply(lambda x: x[re.search(thisre, x).start():re.search(thisre,x).end()])\n",
    "\n",
    "#    print(\n",
    "#        music_df['date_string'][\n",
    "#            (music_df['date_string'].notnull()) & \n",
    "#            (music_df['date_string'].apply(lambda x: re.search(thisre, str(x)) != None))\n",
    "#        ])\n",
    "\n",
    "music_df['date_string'][(music_df['date_format'] == 'otros') & (music_df['date_string'].notnull())]"
   ]
  },
  {
   "cell_type": "code",
   "execution_count": null,
   "metadata": {},
   "outputs": [],
   "source": []
  },
  {
   "cell_type": "code",
   "execution_count": null,
   "metadata": {},
   "outputs": [],
   "source": []
  },
  {
   "cell_type": "code",
   "execution_count": null,
   "metadata": {},
   "outputs": [],
   "source": []
  },
  {
   "cell_type": "code",
   "execution_count": null,
   "metadata": {},
   "outputs": [],
   "source": [
    "print('retrieving from backup...')\n",
    "music_df = music_df_bk\n",
    "\n",
    "seps = re.compile('[,_\\.\\-\\s]+')\n",
    "ordinalios = re.compile('(st|nd|rd|th)*[\\,]*[\\s]+')\n",
    "\n",
    "redict = {}\n",
    "redict['longmonthname_day_year'] = re.compile('([j|J]anuary|[f|F]ebruary|[m|M]arch|[a|A]pril|[m|M]ay|[j|J]une|[j|J]uly|[a|A]ugust|[s|S]eptember|[o|O]ctober|[n|N]ovember|[d|D]ecember)[,\\.\\-\\s]*[\\d]+[st|nd|rd|th]*[,\\.\\-\\s]*[\\d]{2,4}')\n",
    "redict['shortmonthname_day_year'] = re.compile('([j|J]an|[f|F]eb|[m|M]ar|[a|A]pr|[m|M]ay|[j|j]un|[j|J]ul|[a|A]ug|[s|S]ep|[o|O]ct|[n|N]ov|[d|D]ec)(?![a-z])[_,\\.\\-\\s]*[\\d]+[st|nd|rd|th]*[,\\.\\-\\s]*[\\d]{2,4}')\n",
    "redict['day_longmonthname_year'] = re.compile('[\\d]+(st|nd|rd|th)*[,\\.\\-\\s]*([j|J]anuary|[f|F]ebruary|[m|M]arch|[a|A]pril|[m|M]ay|[j|j]une|[j|J]uly|[a|A]ugust|[s|S]eptember|[o|O]ctober|[n|N]ovember|[d|D]ecember)(?![a-z])[,\\.\\-\\s]*[\\d]{2,4}')\n",
    "redict['day_shortmonthname_year'] = re.compile('[\\d]+(st|nd|rd|th)*[,\\.\\-\\s]*([j|J]an|[f|F]eb|[m|M]ar|[a|A]pr|[m|M]ay|[j|j]un|[j|J]ul|[a|A]ug|[s|S]ep|[o|O]ct|[n|N]ov|[d|D]ec)(?![a-z])[_,\\.\\-\\s]*[\\d]{2,4}')\n",
    "redict['year_longmonthname_day'] = re.compile('([\\d]+[,\\.\\-\\s]*[j|J]anuary|[f|F]ebruary|[m|M]arch|[a|A]pril|[m|M]ay|[j|j]une|[j|J]uly|[a|A]ugust|[s|S]eptember|[o|O]ctober|[n|N]ovember|[d|D]ecember)(?![a-z])[,\\.\\-\\s]*[\\d]+[st|nd|rd|th]*')\n",
    "redict['year_shortmonthname_day'] = re.compile('([\\d]+[,\\.\\-\\s]*[j|J]an|[f|F]eb|[m|M]ar|[a|A]pr|[m|M]ay|[j|j]un|[j|J]ul|[a|A]ug|[s|S]ep|[o|O]ct|[n|N]ov|[d|D]ec)(?![a-z])[,\\.\\-\\s]*[\\d]+[st|nd|rd|th]*')\n",
    "redict['eightstraight'] = re.compile('[\\d]{8}')\n",
    "redict['sixstraight'] = re.compile('[\\d]{6}')\n",
    "redict['other_numeric'] = re.compile('[\\d]{1,4}[,_\\.\\-\\s]+[\\d]{1,4}[,_\\.\\-\\s]+[\\d]{1,4}')\n",
    "redict['just_year_month'] = re.compile('(19|20)[\\d]{2}[,_\\.\\-\\s]+[\\d]{1,2}')\n",
    "redict['just_year'] = re.compile('(19|20)[\\d]{2}')\n",
    "\n",
    "keys_to_remove = []\n",
    "\n",
    "for nameofthisre, thisre in redict.items():\n",
    "    music_df.loc[\n",
    "        (music_df['date_format'] == 'otros')\n",
    "        & (music_df['stem'].apply(lambda x: re.search(thisre,x) != None))\n",
    "    , 'date_format'] = nameofthisre\n",
    "    music_df.loc[\n",
    "        (music_df['date_format'] == nameofthisre)\n",
    "    , 'date_string'] = music_df['stem'][\n",
    "        (music_df['date_format'] == nameofthisre)\n",
    "    ].apply(lambda x: x[re.search(thisre,x).start():re.search(thisre,x).end()])\n",
    "    if (len(music_df[music_df['date_format'] == nameofthisre]) > 0):\n",
    "        print('Regex {0:}: found {1:,.0f} matching filenames...'.format(nameofthisre, len(music_df[music_df['date_format'] == nameofthisre])))\n",
    "    else:\n",
    "        keys_to_remove.append(nameofthisre)\n",
    "        \n",
    "for x in keys_to_remove:\n",
    "    del redict[x]\n",
    "\n",
    "#print('backing up...')\n",
    "#music_df_bk = music_df\n",
    "\n",
    "music_df.groupby('date_format').size()\n",
    "\n",
    "#music_df[music_df['date_string'] == '000225']\n",
    "\n"
   ]
  },
  {
   "cell_type": "markdown",
   "metadata": {},
   "source": [
    "## Turn date strings found above into real dates"
   ]
  },
  {
   "cell_type": "code",
   "execution_count": null,
   "metadata": {},
   "outputs": [],
   "source": [
    "for x in redict.keys():\n",
    "    print(x)\n",
    "    \n",
    "music_df[['date_string', 'thedate']][music_df['date_format'] == 'longmonthname_day_year']"
   ]
  },
  {
   "cell_type": "code",
   "execution_count": null,
   "metadata": {},
   "outputs": [],
   "source": []
  },
  {
   "cell_type": "code",
   "execution_count": null,
   "metadata": {},
   "outputs": [],
   "source": []
  },
  {
   "cell_type": "code",
   "execution_count": null,
   "metadata": {},
   "outputs": [],
   "source": []
  },
  {
   "cell_type": "code",
   "execution_count": null,
   "metadata": {},
   "outputs": [],
   "source": []
  },
  {
   "cell_type": "code",
   "execution_count": null,
   "metadata": {},
   "outputs": [],
   "source": []
  },
  {
   "cell_type": "code",
   "execution_count": null,
   "metadata": {},
   "outputs": [],
   "source": []
  },
  {
   "cell_type": "code",
   "execution_count": null,
   "metadata": {},
   "outputs": [],
   "source": []
  },
  {
   "cell_type": "code",
   "execution_count": null,
   "metadata": {},
   "outputs": [],
   "source": []
  }
 ],
 "metadata": {
  "kernelspec": {
   "display_name": "Python 3",
   "language": "python",
   "name": "python3"
  },
  "language_info": {
   "codemirror_mode": {
    "name": "ipython",
    "version": 3
   },
   "file_extension": ".py",
   "mimetype": "text/x-python",
   "name": "python",
   "nbconvert_exporter": "python",
   "pygments_lexer": "ipython3",
   "version": "3.6.5"
  }
 },
 "nbformat": 4,
 "nbformat_minor": 2
}
